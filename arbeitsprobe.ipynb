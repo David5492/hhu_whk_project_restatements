{
 "cells": [
  {
   "cell_type": "code",
   "execution_count": 8,
   "metadata": {},
   "outputs": [
    {
     "name": "stdout",
     "output_type": "stream",
     "text": [
      "C:\\Users\\test\\Documents\\GitHub\\hhu_whk_project_restatements\\test_data\\Bayer AG2009_SR.pdf\n",
      "C:\\Users\\test\\Documents\\GitHub\\hhu_whk_project_restatements\\test_data\\BMW AG2008_SR.pdf\n",
      "C:\\Users\\test\\Documents\\GitHub\\hhu_whk_project_restatements\\test_data\\Deutsche Post AG2010_SR.pdf\n",
      "C:\\Users\\test\\Documents\\GitHub\\hhu_whk_project_restatements\\test_data\\E.ON AG2011_SR.pdf\n",
      "C:\\Users\\test\\Documents\\GitHub\\hhu_whk_project_restatements\\test_data\\Evonik Industries AG2011_SR.pdf\n",
      "C:\\Users\\test\\Documents\\GitHub\\hhu_whk_project_restatements\\test_data\\Fraport AG FFM Airport2012_SR.pdf\n",
      "C:\\Users\\test\\Documents\\GitHub\\hhu_whk_project_restatements\\test_data\\Henkel AG_Co.KGAA2013_SR.pdf\n",
      "C:\\Users\\test\\Documents\\GitHub\\hhu_whk_project_restatements\\test_data\\Linde AG_SR_2014.pdf\n",
      "C:\\Users\\test\\Documents\\GitHub\\hhu_whk_project_restatements\\test_data\\MAN SE_SR_2015.pdf\n",
      "C:\\Users\\test\\Documents\\GitHub\\hhu_whk_project_restatements\\test_data\\RWE AG_SR_2016.pdf\n",
      "C:\\Users\\test\\Documents\\GitHub\\hhu_whk_project_restatements\\test_data\\Telefonica DTLD HLDG AG_SR_2017.pdf\n",
      "C:\\Users\\test\\Documents\\GitHub\\hhu_whk_project_restatements\\test_data\\Volkswagen AG_SR_2018.pdf\n"
     ]
    }
   ],
   "source": [
    "from modules import Path \n",
    "\n",
    "from tika import parser\n",
    "import string\n",
    "import re\n",
    "import io\n",
    "import os\n",
    "\n",
    "\n",
    "# In dieser Datei soll eine Neue Datei geschrieben.\n",
    "# Für jeden Jahresabschluss, den diese Datei einließt, soll eine Excel-Arbeitsmappe erstellt \n",
    "# werden, die anhand einer KeyWordListe matches abgleicht und den Satz des Matches extrahiert. \n",
    "\n",
    "#=============================================================================================\n",
    "# 0. PFADE SAMMELN\n",
    "#=============================================================================================\n",
    "\n",
    "# Pfadliste\n",
    "pfade = Path.fetch(\"test_data\")\n",
    "for pfad in pfade:\n",
    "    print(pfad)"
   ]
  },
  {
   "cell_type": "code",
   "execution_count": 9,
   "metadata": {},
   "outputs": [
    {
     "data": {
      "text/plain": [
       "70"
      ]
     },
     "execution_count": 9,
     "metadata": {},
     "output_type": "execute_result"
    }
   ],
   "source": [
    "# KWL laden:\n",
    "KWL_raw = []\n",
    "with open(\"KWL.txt\", \"r\", encoding=\"utf-8\") as KWL_file:\n",
    "    for line in KWL_file:\n",
    "        KWL_raw.append(line.strip())\n",
    "len(KWL_raw)"
   ]
  },
  {
   "cell_type": "code",
   "execution_count": 10,
   "metadata": {},
   "outputs": [
    {
     "data": {
      "text/plain": [
       "60"
      ]
     },
     "execution_count": 10,
     "metadata": {},
     "output_type": "execute_result"
    }
   ],
   "source": [
    "# wegen dopplungen in der KWL-raw wird diese überarbeitet. \n",
    "KWL_set = set()\n",
    "KWL = []\n",
    "\n",
    "for key in KWL_raw:\n",
    "    KWL_set.add(key)\n",
    "for key in KWL_set:\n",
    "    KWL.append(key)\n",
    "len(KWL)"
   ]
  },
  {
   "cell_type": "code",
   "execution_count": 11,
   "metadata": {},
   "outputs": [
    {
     "data": {
      "text/plain": [
       "['redigiert',\n",
       " 'richtig stellen',\n",
       " 'Neufassung',\n",
       " 'Abänderung',\n",
       " 'ausbessern',\n",
       " 'umformuliert',\n",
       " 'überprüfen',\n",
       " 'upgedated',\n",
       " 'verbessert',\n",
       " 'ändern',\n",
       " 'geändert',\n",
       " 'Nachprüfung',\n",
       " 'Bearbeitung',\n",
       " 'umformulieren',\n",
       " 'aufdatieren',\n",
       " 'berichtigen',\n",
       " 'abgeändert',\n",
       " 'berichtigt',\n",
       " 'Ausbesserung',\n",
       " 'bereinigt',\n",
       " 'korrigiert',\n",
       " 'Update',\n",
       " 'Nachbesserung',\n",
       " 'Anpassung',\n",
       " 'Revision',\n",
       " 'Korrektion',\n",
       " 'überarbeitet',\n",
       " 'verbessern',\n",
       " 'überarbeiten',\n",
       " 'Neuformulierung',\n",
       " 'beheben',\n",
       " 'Umformulierung',\n",
       " 'aktualisiert',\n",
       " 'aktualisieren',\n",
       " 'neu formuliert',\n",
       " 'ausgebessert',\n",
       " 'Aktualisierung',\n",
       " 'angepasst',\n",
       " 'revidiert',\n",
       " 'Richtigstellung',\n",
       " 'Bereinigung',\n",
       " 'richtig gestellt',\n",
       " 'Verbesserung',\n",
       " 'Korrektur',\n",
       " 'bearbeitet',\n",
       " 'redigieren',\n",
       " 'neu formulieren',\n",
       " 'revidieren',\n",
       " 'updaten',\n",
       " 'bearbeiten',\n",
       " 'korrigieren',\n",
       " 'Überprüfung',\n",
       " 'abändern',\n",
       " 'Überarbeitung',\n",
       " 'Fehlerverbesserung',\n",
       " 'Änderung',\n",
       " 'Berichtigung',\n",
       " 'überholt',\n",
       " 'bereinigen',\n",
       " 'anpassen']"
      ]
     },
     "execution_count": 11,
     "metadata": {},
     "output_type": "execute_result"
    }
   ],
   "source": [
    "KWL"
   ]
  },
  {
   "cell_type": "code",
   "execution_count": 12,
   "metadata": {},
   "outputs": [],
   "source": [
    "# Okay, da waren 10 Schlüssel doppelt belegt. Daher die riesige Anzahl an Matches im ersten Durchgang. "
   ]
  },
  {
   "cell_type": "code",
   "execution_count": 13,
   "metadata": {},
   "outputs": [
    {
     "name": "stdout",
     "output_type": "stream",
     "text": [
      "C:\\Users\\test\\Documents\\GitHub\\hhu_whk_project_restatements\\test_data\\Bayer AG2009_SR.pdf\n",
      "C:\\Users\\test\\Documents\\GitHub\\hhu_whk_project_restatements\\test_data\\BMW AG2008_SR.pdf\n",
      "C:\\Users\\test\\Documents\\GitHub\\hhu_whk_project_restatements\\test_data\\Deutsche Post AG2010_SR.pdf\n",
      "C:\\Users\\test\\Documents\\GitHub\\hhu_whk_project_restatements\\test_data\\E.ON AG2011_SR.pdf\n",
      "C:\\Users\\test\\Documents\\GitHub\\hhu_whk_project_restatements\\test_data\\Evonik Industries AG2011_SR.pdf\n",
      "C:\\Users\\test\\Documents\\GitHub\\hhu_whk_project_restatements\\test_data\\Fraport AG FFM Airport2012_SR.pdf\n",
      "C:\\Users\\test\\Documents\\GitHub\\hhu_whk_project_restatements\\test_data\\Henkel AG_Co.KGAA2013_SR.pdf\n",
      "C:\\Users\\test\\Documents\\GitHub\\hhu_whk_project_restatements\\test_data\\Linde AG_SR_2014.pdf\n",
      "C:\\Users\\test\\Documents\\GitHub\\hhu_whk_project_restatements\\test_data\\MAN SE_SR_2015.pdf\n",
      "C:\\Users\\test\\Documents\\GitHub\\hhu_whk_project_restatements\\test_data\\RWE AG_SR_2016.pdf\n",
      "C:\\Users\\test\\Documents\\GitHub\\hhu_whk_project_restatements\\test_data\\Telefonica DTLD HLDG AG_SR_2017.pdf\n",
      "C:\\Users\\test\\Documents\\GitHub\\hhu_whk_project_restatements\\test_data\\Volkswagen AG_SR_2018.pdf\n"
     ]
    }
   ],
   "source": [
    "# 2 Ansätze: \n",
    "\n",
    "# Easy Approach: Das Matching ist simpel, jedes Dokument wird in Sätze zerlegt.\n",
    "\n",
    "# Hard Approach: Das Matching wird komplex, man extrahiert keine Sätze sondern die Postion des \n",
    "# matches +- eine Zeichenanzahl. Text kann dabei in Form von Rohdaten bleiben. Vorteil: \n",
    "# Man übersieht nicht aus versehen Matches (z.B.) unter Grafiken (sind keine Sätze).\n",
    "\n",
    "#=============================================================================================\n",
    "# 1. EASY APPROACH\n",
    "#=============================================================================================\n",
    "\n",
    "# Pfadliste\n",
    "pfade = Path.fetch(\"test_data\")\n",
    "\n",
    "for file in pfade:\n",
    "    print(file)\n",
    "    \n",
    "    # Jahresabschluss einlesen\n",
    "    parsedPDF = parser.from_file(file) \n",
    "\n",
    "    # Name des Dokuments speichern\n",
    "    name = os.path.basename(file)[0:-4] #letzter Block um \".pdf\" abzuschneiden\n",
    "    \n",
    "    # Einzelne Seiten aufrufen\n",
    "    pages_raw = parsedPDF['content'].split('\\n\\n\\n\\n')\n",
    "    pages = [page for page in pages_raw if len(page)] # HIER SIND NOCH UMLAUTE, bEIM SPEICHERN NACHHER NICHT?\n",
    "    \n",
    "    # Seitenzähler innitiieren\n",
    "    page_number = 0\n",
    "    \n",
    "    for page in pages:\n",
    "        \n",
    "        page_number += 1\n",
    "        \n",
    "        # Text_prep: Absätze (\\n), Tabs (\\t) und Semikoli raus; Liste aus Sätzen erstellen // Normalerweise schriebt man noch alles klein, aber wegen KWL nicht möglich. \n",
    "        text = page.replace('\\n', \"\").replace('\\t', \"\").replace(\";\", '').strip().lower()\n",
    "        satz_liste = text.split('.')\n",
    "\n",
    "        # Satzweise die gesamte KWL checken lassen. Wenn Match, dann Satz m it Nummer in Match_Liste ablegen\n",
    "        satz_counter = 0\n",
    "        for satz in satz_liste:\n",
    "            satz_counter += 1\n",
    "            for key in KWL:\n",
    "                if re.search(key, satz):\n",
    "                    with open(\"./arbeitsprobe.csv\", \"a\", encoding=\"utf-8\") as File:\n",
    "                        File.write(u\"{};{};{};{};{}\\n\".format(name, page_number, satz_counter, key, satz))\n"
   ]
  },
  {
   "cell_type": "code",
   "execution_count": 14,
   "metadata": {},
   "outputs": [
    {
     "data": {
      "text/html": [
       "<div>\n",
       "<style scoped>\n",
       "    .dataframe tbody tr th:only-of-type {\n",
       "        vertical-align: middle;\n",
       "    }\n",
       "\n",
       "    .dataframe tbody tr th {\n",
       "        vertical-align: top;\n",
       "    }\n",
       "\n",
       "    .dataframe thead th {\n",
       "        text-align: right;\n",
       "    }\n",
       "</style>\n",
       "<table border=\"1\" class=\"dataframe\">\n",
       "  <thead>\n",
       "    <tr style=\"text-align: right;\">\n",
       "      <th></th>\n",
       "      <th>name</th>\n",
       "      <th>seite</th>\n",
       "      <th>satz_nummer</th>\n",
       "      <th>key</th>\n",
       "      <th>satz</th>\n",
       "    </tr>\n",
       "  </thead>\n",
       "  <tbody>\n",
       "    <tr>\n",
       "      <th>0</th>\n",
       "      <td>Bayer AG2009_SR</td>\n",
       "      <td>1</td>\n",
       "      <td>2</td>\n",
       "      <td>aktualisiert</td>\n",
       "      <td>die anliegen unserer stakehol-der bilden die ...</td>\n",
       "    </tr>\n",
       "    <tr>\n",
       "      <th>1</th>\n",
       "      <td>Bayer AG2009_SR</td>\n",
       "      <td>1</td>\n",
       "      <td>33</td>\n",
       "      <td>ändern</td>\n",
       "      <td>wir möchten frauen in entwick-lungs- und schw...</td>\n",
       "    </tr>\n",
       "    <tr>\n",
       "      <th>2</th>\n",
       "      <td>Bayer AG2009_SR</td>\n",
       "      <td>1</td>\n",
       "      <td>89</td>\n",
       "      <td>ändern</td>\n",
       "      <td>69)  online-datenbank globesmart zu umgangsfo...</td>\n",
       "    </tr>\n",
       "    <tr>\n",
       "      <th>3</th>\n",
       "      <td>Bayer AG2009_SR</td>\n",
       "      <td>1</td>\n",
       "      <td>100</td>\n",
       "      <td>aktualisiert</td>\n",
       "      <td>22, 52)  „bayrisk“ verfahrensanleitung aktual...</td>\n",
       "    </tr>\n",
       "    <tr>\n",
       "      <th>4</th>\n",
       "      <td>Bayer AG2009_SR</td>\n",
       "      <td>2</td>\n",
       "      <td>2</td>\n",
       "      <td>aktualisiert</td>\n",
       "      <td>die anliegen unserer stakehol-der bilden die ...</td>\n",
       "    </tr>\n",
       "  </tbody>\n",
       "</table>\n",
       "</div>"
      ],
      "text/plain": [
       "              name  seite  satz_nummer           key  \\\n",
       "0  Bayer AG2009_SR      1            2  aktualisiert   \n",
       "1  Bayer AG2009_SR      1           33        ändern   \n",
       "2  Bayer AG2009_SR      1           89        ändern   \n",
       "3  Bayer AG2009_SR      1          100  aktualisiert   \n",
       "4  Bayer AG2009_SR      2            2  aktualisiert   \n",
       "\n",
       "                                                satz  \n",
       "0   die anliegen unserer stakehol-der bilden die ...  \n",
       "1   wir möchten frauen in entwick-lungs- und schw...  \n",
       "2   69)  online-datenbank globesmart zu umgangsfo...  \n",
       "3   22, 52)  „bayrisk“ verfahrensanleitung aktual...  \n",
       "4   die anliegen unserer stakehol-der bilden die ...  "
      ]
     },
     "execution_count": 14,
     "metadata": {},
     "output_type": "execute_result"
    }
   ],
   "source": [
    "#Analyse der Arbeitsprobe bis hier her:\n",
    "\n",
    "import pandas as pd\n",
    "\n",
    "\n",
    "df = pd.read_csv('arbeitsprobe.csv', ';')\n",
    "df.head()"
   ]
  },
  {
   "cell_type": "code",
   "execution_count": 17,
   "metadata": {},
   "outputs": [
    {
     "data": {
      "text/plain": [
       "ändern           303\n",
       "verbessern       232\n",
       "angepasst        133\n",
       "verbessert       116\n",
       "überprüfen        52\n",
       "aktualisiert      48\n",
       "überarbeitet      44\n",
       "bereinigt         36\n",
       "geändert          31\n",
       "bearbeitet        26\n",
       "anpassen           8\n",
       "korrigiert         6\n",
       "korrigieren        6\n",
       "beheben            6\n",
       "aktualisieren      5\n",
       "bearbeiten         5\n",
       "überarbeiten       5\n",
       "Name: key, dtype: int64"
      ]
     },
     "execution_count": 17,
     "metadata": {},
     "output_type": "execute_result"
    }
   ],
   "source": [
    "df.key.value_counts()"
   ]
  },
  {
   "cell_type": "code",
   "execution_count": null,
   "metadata": {},
   "outputs": [],
   "source": [
    "#=============================================================================================\n",
    "# 1. HRAD APPROACH\n",
    "#============================================================================================="
   ]
  },
  {
   "cell_type": "code",
   "execution_count": null,
   "metadata": {},
   "outputs": [],
   "source": []
  }
 ],
 "metadata": {
  "kernelspec": {
   "display_name": "Python 3",
   "language": "python",
   "name": "python3"
  },
  "language_info": {
   "codemirror_mode": {
    "name": "ipython",
    "version": 3
   },
   "file_extension": ".py",
   "mimetype": "text/x-python",
   "name": "python",
   "nbconvert_exporter": "python",
   "pygments_lexer": "ipython3",
   "version": "3.8.5"
  }
 },
 "nbformat": 4,
 "nbformat_minor": 4
}
