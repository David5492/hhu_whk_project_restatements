{
 "cells": [
  {
   "cell_type": "code",
   "execution_count": 10,
   "metadata": {},
   "outputs": [
    {
     "name": "stdout",
     "output_type": "stream",
     "text": [
      "C:\\Users\\test\\Documents\\GitHub\\hhu_whk_project_restatements\\test_data\\Bayer AG2009_SR.pdf\n",
      "C:\\Users\\test\\Documents\\GitHub\\hhu_whk_project_restatements\\test_data\\BMW AG2008_SR.pdf\n",
      "C:\\Users\\test\\Documents\\GitHub\\hhu_whk_project_restatements\\test_data\\Deutsche Post AG2010_SR.pdf\n",
      "C:\\Users\\test\\Documents\\GitHub\\hhu_whk_project_restatements\\test_data\\E.ON AG2011_SR.pdf\n",
      "C:\\Users\\test\\Documents\\GitHub\\hhu_whk_project_restatements\\test_data\\Evonik Industries AG2011_SR.pdf\n",
      "C:\\Users\\test\\Documents\\GitHub\\hhu_whk_project_restatements\\test_data\\Fraport AG FFM Airport2012_SR.pdf\n",
      "C:\\Users\\test\\Documents\\GitHub\\hhu_whk_project_restatements\\test_data\\Henkel AG_Co.KGAA2013_SR.pdf\n",
      "C:\\Users\\test\\Documents\\GitHub\\hhu_whk_project_restatements\\test_data\\Linde AG_SR_2014.pdf\n",
      "C:\\Users\\test\\Documents\\GitHub\\hhu_whk_project_restatements\\test_data\\MAN SE_SR_2015.pdf\n",
      "C:\\Users\\test\\Documents\\GitHub\\hhu_whk_project_restatements\\test_data\\RWE AG_SR_2016.pdf\n",
      "C:\\Users\\test\\Documents\\GitHub\\hhu_whk_project_restatements\\test_data\\Telefonica DTLD HLDG AG_SR_2017.pdf\n",
      "C:\\Users\\test\\Documents\\GitHub\\hhu_whk_project_restatements\\test_data\\Volkswagen AG_SR_2018.pdf\n"
     ]
    }
   ],
   "source": [
    "from modules import Path \n",
    "\n",
    "from tika import parser\n",
    "import string\n",
    "import re\n",
    "import io\n",
    "import os\n",
    "\n",
    "\n",
    "# In dieser Datei soll eine Neue Datei geschrieben.\n",
    "# Für jeden Jahresabschluss, den diese Datei einließt, soll eine Excel-Arbeitsmappe erstellt \n",
    "# werden, die anhand einer KeyWordListe matches abgleicht und den Satz des Matches extrahiert. \n",
    "\n",
    "#=============================================================================================\n",
    "# 0. PFADE SAMMELN\n",
    "#=============================================================================================\n",
    "\n",
    "# Pfadliste\n",
    "pfade = Path.fetch(\"test_data\")\n",
    "for pfad in pfade:\n",
    "    print(pfad)"
   ]
  },
  {
   "cell_type": "code",
   "execution_count": 11,
   "metadata": {},
   "outputs": [
    {
     "data": {
      "text/plain": [
       "70"
      ]
     },
     "execution_count": 11,
     "metadata": {},
     "output_type": "execute_result"
    }
   ],
   "source": [
    "# KWL laden:\n",
    "KWL_raw = []\n",
    "with open(\"KWL.txt\", \"r\", encoding=\"utf-8\") as KWL_file:\n",
    "    for line in KWL_file:\n",
    "        KWL_raw.append(line.strip())\n",
    "len(KWL_raw)"
   ]
  },
  {
   "cell_type": "code",
   "execution_count": 12,
   "metadata": {},
   "outputs": [
    {
     "data": {
      "text/plain": [
       "60"
      ]
     },
     "execution_count": 12,
     "metadata": {},
     "output_type": "execute_result"
    }
   ],
   "source": [
    "# wegen dopplungen in der KWL-raw wird diese überarbeitet. \n",
    "KWL_set = set()\n",
    "KWL = []\n",
    "\n",
    "for key in KWL_raw:\n",
    "    KWL_set.add(key)\n",
    "for key in KWL_set:\n",
    "    KWL.append(key)\n",
    "len(KWL)"
   ]
  },
  {
   "cell_type": "code",
   "execution_count": 13,
   "metadata": {},
   "outputs": [
    {
     "data": {
      "text/plain": [
       "['überarbeiten',\n",
       " 'bearbeitet',\n",
       " 'Ausbesserung',\n",
       " 'Revision',\n",
       " 'Überarbeitung',\n",
       " 'umformuliert',\n",
       " 'Richtigstellung',\n",
       " 'updaten',\n",
       " 'richtig gestellt',\n",
       " 'bereinigen',\n",
       " 'Anpassung',\n",
       " 'Verbesserung',\n",
       " 'berichtigt',\n",
       " 'neu formuliert',\n",
       " 'verbessert',\n",
       " 'upgedated',\n",
       " 'Bereinigung',\n",
       " 'beheben',\n",
       " 'Neuformulierung',\n",
       " 'berichtigen',\n",
       " 'korrigiert',\n",
       " 'revidiert',\n",
       " 'umformulieren',\n",
       " 'bereinigt',\n",
       " 'Überprüfung',\n",
       " 'Bearbeitung',\n",
       " 'richtig stellen',\n",
       " 'überprüfen',\n",
       " 'Neufassung',\n",
       " 'Korrektion',\n",
       " 'revidieren',\n",
       " 'geändert',\n",
       " 'abändern',\n",
       " 'Nachprüfung',\n",
       " 'Abänderung',\n",
       " 'aktualisiert',\n",
       " 'verbessern',\n",
       " 'Umformulierung',\n",
       " 'Korrektur',\n",
       " 'anpassen',\n",
       " 'Update',\n",
       " 'angepasst',\n",
       " 'überarbeitet',\n",
       " 'ändern',\n",
       " 'neu formulieren',\n",
       " 'abgeändert',\n",
       " 'korrigieren',\n",
       " 'ausbessern',\n",
       " 'aufdatieren',\n",
       " 'aktualisieren',\n",
       " 'Aktualisierung',\n",
       " 'Fehlerverbesserung',\n",
       " 'redigieren',\n",
       " 'ausgebessert',\n",
       " 'überholt',\n",
       " 'bearbeiten',\n",
       " 'Berichtigung',\n",
       " 'redigiert',\n",
       " 'Nachbesserung',\n",
       " 'Änderung']"
      ]
     },
     "execution_count": 13,
     "metadata": {},
     "output_type": "execute_result"
    }
   ],
   "source": [
    "KWL"
   ]
  },
  {
   "cell_type": "code",
   "execution_count": 14,
   "metadata": {},
   "outputs": [],
   "source": [
    "# Okay, da waren 10 Schlüssel doppelt belegt. Daher die riesige Anzahl an Matches im ersten Durchgang. "
   ]
  },
  {
   "cell_type": "code",
   "execution_count": 16,
   "metadata": {},
   "outputs": [
    {
     "name": "stdout",
     "output_type": "stream",
     "text": [
      "C:\\Users\\test\\Documents\\GitHub\\hhu_whk_project_restatements\\test_data\\Bayer AG2009_SR.pdf\n",
      "C:\\Users\\test\\Documents\\GitHub\\hhu_whk_project_restatements\\test_data\\BMW AG2008_SR.pdf\n",
      "C:\\Users\\test\\Documents\\GitHub\\hhu_whk_project_restatements\\test_data\\Deutsche Post AG2010_SR.pdf\n",
      "C:\\Users\\test\\Documents\\GitHub\\hhu_whk_project_restatements\\test_data\\E.ON AG2011_SR.pdf\n",
      "C:\\Users\\test\\Documents\\GitHub\\hhu_whk_project_restatements\\test_data\\Evonik Industries AG2011_SR.pdf\n",
      "C:\\Users\\test\\Documents\\GitHub\\hhu_whk_project_restatements\\test_data\\Fraport AG FFM Airport2012_SR.pdf\n",
      "C:\\Users\\test\\Documents\\GitHub\\hhu_whk_project_restatements\\test_data\\Henkel AG_Co.KGAA2013_SR.pdf\n",
      "C:\\Users\\test\\Documents\\GitHub\\hhu_whk_project_restatements\\test_data\\Linde AG_SR_2014.pdf\n",
      "C:\\Users\\test\\Documents\\GitHub\\hhu_whk_project_restatements\\test_data\\MAN SE_SR_2015.pdf\n",
      "C:\\Users\\test\\Documents\\GitHub\\hhu_whk_project_restatements\\test_data\\RWE AG_SR_2016.pdf\n",
      "C:\\Users\\test\\Documents\\GitHub\\hhu_whk_project_restatements\\test_data\\Telefonica DTLD HLDG AG_SR_2017.pdf\n",
      "C:\\Users\\test\\Documents\\GitHub\\hhu_whk_project_restatements\\test_data\\Volkswagen AG_SR_2018.pdf\n"
     ]
    }
   ],
   "source": [
    "# 2 Ansätze: \n",
    "\n",
    "# Easy Approach: Das Matching ist simpel, jedes Dokument wird in Sätze zerlegt.\n",
    "\n",
    "# Hard Approach: Das Matching wird komplex, man extrahiert keine Sätze sondern die Postion des \n",
    "# matches +- eine Zeichenanzahl. Text kann dabei in Form von Rohdaten bleiben. Vorteil: \n",
    "# Man übersieht nicht aus versehen Matches (z.B.) unter Grafiken (sind keine Sätze).\n",
    "\n",
    "#=============================================================================================\n",
    "# 1. EASY APPROACH\n",
    "#=============================================================================================\n",
    "\n",
    "# Pfadliste\n",
    "pfade = Path.fetch(\"test_data\")\n",
    "\n",
    "for file in pfade:\n",
    "    print(file)\n",
    "    \n",
    "    # Jahresabschluss einlesen\n",
    "    parsedPDF = parser.from_file(file) \n",
    "\n",
    "    # Name des Dokuments speichern\n",
    "    name = os.path.basename(file)[0:-4] #letzter Block um \".pdf\" abzuschneiden\n",
    "    \n",
    "    # Leere Keyword-Variable initiieren\n",
    "    keyword_match = ''\n",
    "    \n",
    "    # Einzelne Seiten aufrufen\n",
    "    pages_raw = parsedPDF_test['content'].split('\\n\\n\\n\\n')\n",
    "    pages = [page for page in pages_raw if len(page)] # HIER SIND NOCH UMLAUTE, bEIM SPEICHERN NACHHER NICHT?\n",
    "    \n",
    "    # Seitenzähler innitiieren\n",
    "    page_number = 0\n",
    "    \n",
    "    for page in pages:\n",
    "        \n",
    "        page_number += 1\n",
    "        \n",
    "        # Text_prep: Absätze (\\n) und Tabs (\\t) raus; Liste aus Sätzen erstellen // Normalerweise schriebt man noch alles klein, aber wegen KWL nicht möglich. \n",
    "        text = page.replace('\\n', \"\").replace('\\t', \"\").strip().lower()\n",
    "        satz_liste = text.split('.')\n",
    "\n",
    "        # Satzweise die gesamte KWL checken lassen. Wenn Match, dann Satz m it Nummer in Match_Liste ablegen\n",
    "        satz_counter = 0\n",
    "        for satz in satz_liste:\n",
    "            satz_counter += 1\n",
    "            for key in KWL:\n",
    "                if re.search(key, satz):\n",
    "                    with open(\"./arbeitsprobe.csv\", \"a\", encoding=\"utf-8\") as File:\n",
    "                        File.write(u\"{},{},{},{},{}\\n\".format(name, page_number, satz_counter, key, satz))\n"
   ]
  },
  {
   "cell_type": "code",
   "execution_count": null,
   "metadata": {},
   "outputs": [],
   "source": [
    "#=============================================================================================\n",
    "# 1. HRAD APPROACH\n",
    "#============================================================================================="
   ]
  },
  {
   "cell_type": "code",
   "execution_count": null,
   "metadata": {},
   "outputs": [],
   "source": []
  }
 ],
 "metadata": {
  "kernelspec": {
   "display_name": "Python 3",
   "language": "python",
   "name": "python3"
  },
  "language_info": {
   "codemirror_mode": {
    "name": "ipython",
    "version": 3
   },
   "file_extension": ".py",
   "mimetype": "text/x-python",
   "name": "python",
   "nbconvert_exporter": "python",
   "pygments_lexer": "ipython3",
   "version": "3.8.5"
  }
 },
 "nbformat": 4,
 "nbformat_minor": 4
}
