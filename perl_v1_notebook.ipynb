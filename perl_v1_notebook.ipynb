{
 "cells": [
  {
   "cell_type": "code",
   "execution_count": 110,
   "metadata": {},
   "outputs": [
    {
     "name": "stdout",
     "output_type": "stream",
     "text": [
      "C:\\Users\\test\\Documents\\GitHub\\hhu_whk_project_restatements\\test_data\\Bayer AG2009_SR.pdf\n",
      "C:\\Users\\test\\Documents\\GitHub\\hhu_whk_project_restatements\\test_data\\BMW AG2008_SR.pdf\n",
      "C:\\Users\\test\\Documents\\GitHub\\hhu_whk_project_restatements\\test_data\\Deutsche Post AG2010_SR.pdf\n",
      "C:\\Users\\test\\Documents\\GitHub\\hhu_whk_project_restatements\\test_data\\E.ON AG2011_SR.pdf\n",
      "C:\\Users\\test\\Documents\\GitHub\\hhu_whk_project_restatements\\test_data\\Evonik Industries AG2011_SR.pdf\n",
      "C:\\Users\\test\\Documents\\GitHub\\hhu_whk_project_restatements\\test_data\\Fraport AG FFM Airport2012_SR.pdf\n",
      "C:\\Users\\test\\Documents\\GitHub\\hhu_whk_project_restatements\\test_data\\Henkel AG_Co.KGAA2013_SR.pdf\n",
      "C:\\Users\\test\\Documents\\GitHub\\hhu_whk_project_restatements\\test_data\\Linde AG_SR_2014.pdf\n",
      "C:\\Users\\test\\Documents\\GitHub\\hhu_whk_project_restatements\\test_data\\MAN SE_SR_2015.pdf\n",
      "C:\\Users\\test\\Documents\\GitHub\\hhu_whk_project_restatements\\test_data\\RWE AG_SR_2016.pdf\n",
      "C:\\Users\\test\\Documents\\GitHub\\hhu_whk_project_restatements\\test_data\\Telefonica DTLD HLDG AG_SR_2017.pdf\n",
      "C:\\Users\\test\\Documents\\GitHub\\hhu_whk_project_restatements\\test_data\\Volkswagen AG_SR_2018.pdf\n"
     ]
    },
    {
     "data": {
      "text/plain": [
       "68"
      ]
     },
     "execution_count": 110,
     "metadata": {},
     "output_type": "execute_result"
    }
   ],
   "source": [
    "from modules import Path \n",
    "\n",
    "import string\n",
    "import re\n",
    "import io\n",
    "import os\n",
    "os.environ['TIKA_SERVER_JAR'] = 'https://repo1.maven.org/maven2/org/apache/tika/tika-server/1.19/tika-server-1.19.jar'\n",
    "from tika import parser\n",
    "\n",
    "# In dieser Datei soll eine Neue Datei geschrieben.\n",
    "# Für jeden Jahresabschluss, den diese Datei einließt, soll eine Excel-Arbeitsmappe erstellt \n",
    "# werden, die anhand einer KeyWordListe matches abgleicht und den Satz des Matches extrahiert. \n",
    "\n",
    "#=============================================================================================\n",
    "# 0. VORBEREITUNG: Pfade sammlen, KWL laden.\n",
    "#=============================================================================================\n",
    "\n",
    "# Pfadliste\n",
    "pfade = Path.fetch(\"test_data\")\n",
    "for pfad in pfade:\n",
    "    print(pfad)\n",
    "\n",
    "# KWL laden:\n",
    "KWL_raw = []\n",
    "with open(\"KWL.txt\", \"r\", encoding=\"utf-8\") as KWL_file:\n",
    "    for line in KWL_file:\n",
    "        KWL_raw.append(line.strip())\n",
    "len(KWL_raw)\n"
   ]
  },
  {
   "cell_type": "code",
   "execution_count": 111,
   "metadata": {},
   "outputs": [
    {
     "data": {
      "text/plain": [
       "68"
      ]
     },
     "execution_count": 111,
     "metadata": {},
     "output_type": "execute_result"
    }
   ],
   "source": [
    "# wegen etwaiger Dopplungen in der KWL-raw wird diese überarbeitet. \n",
    "# Das ist nur für künftige Versionen. Es liegen aktuell (KWL v0.2) keine Dopplungen mehr vor. \n",
    "\n",
    "KWL_raw_low = [key.lower() for key in KWL_raw] \n",
    "KWL_set = set()\n",
    "KWL = []\n",
    "\n",
    "for key in KWL_raw_low:\n",
    "    KWL_set.add(key)\n",
    "for key in KWL_set:\n",
    "    KWL.append(key)\n",
    "len(KWL)"
   ]
  },
  {
   "cell_type": "code",
   "execution_count": 112,
   "metadata": {},
   "outputs": [
    {
     "data": {
      "text/plain": [
       "['korrektur',\n",
       " 'rückwirkend',\n",
       " 'umformuliert',\n",
       " 'ausbesserung',\n",
       " 'aufdatieren',\n",
       " 'neufassung',\n",
       " 'umformulierung',\n",
       " 'überholt',\n",
       " 'upgedated',\n",
       " 'vorjahreswert',\n",
       " 'neu ermittelt',\n",
       " 'revision',\n",
       " 'neuermittlung',\n",
       " 'abgeändert',\n",
       " 'bereinigen',\n",
       " 'nachprüfung',\n",
       " 'bearbeitung',\n",
       " 'neuen berechnungsmethoden',\n",
       " 'angepasst',\n",
       " 'neuen methoden',\n",
       " 'berichtigung',\n",
       " 'neuer methode',\n",
       " 'überarbeiten',\n",
       " 'anpassung',\n",
       " 'updaten',\n",
       " 'änderung',\n",
       " 'nicht vergleichbar',\n",
       " 'ausbessern',\n",
       " 'update',\n",
       " 'neue methode',\n",
       " 'richtigstellung',\n",
       " 'neu formuliert',\n",
       " 'neuer berechnungsmethode',\n",
       " 'aktualisieren',\n",
       " 'neuformulierung',\n",
       " 'scope-erweiterung',\n",
       " 'berichtigt',\n",
       " 'aktualisiert',\n",
       " 'aktualisierung',\n",
       " 'beheben',\n",
       " 'redigieren',\n",
       " 'neue berechnungsmethode',\n",
       " 'neu formulieren',\n",
       " 'korrigieren',\n",
       " 'korrigiert',\n",
       " 'neue methoden',\n",
       " 'geändert',\n",
       " 'bereinigt',\n",
       " 'revidiert',\n",
       " 'revidieren',\n",
       " 'neue berechnungsmethoden',\n",
       " 'nachbesserung',\n",
       " 'abänderung',\n",
       " 'korrektion',\n",
       " 'ausgebessert',\n",
       " 'fehlerverbesserung',\n",
       " 'überarbeitet',\n",
       " 'richtig stellen',\n",
       " 'abändern',\n",
       " 'richtig gestellt',\n",
       " 'umformulieren',\n",
       " 'anpassen',\n",
       " 'bearbeitet',\n",
       " 'redigiert',\n",
       " 'überarbeitung',\n",
       " 'berichtigen',\n",
       " 'bereinigung',\n",
       " 'bearbeiten']"
      ]
     },
     "execution_count": 112,
     "metadata": {},
     "output_type": "execute_result"
    }
   ],
   "source": [
    "KWL"
   ]
  },
  {
   "cell_type": "code",
   "execution_count": 113,
   "metadata": {},
   "outputs": [],
   "source": [
    "# Die vorgegebene KWL ist unvollständig und trotzdem überladen (\"Korrektion\"?). Ich habe eine eigene Kombination aus KWLs gerbastelt. Dient nur einem Probelauf. \n",
    "# Dabei sind regex-Filter als solche für Python, nicht für PERL geschrieben. Bei Bedarf ändere ich das nochmal Jetzt will ich erstmal eine Stark reduzierte Ausgabe erzielen. \n",
    "\n",
    "my_KWL_prime = [r'neubehandlung', r'wert\\w*', r'daten', r'\\w*wechsel', r'technisch\\w*\\s*gründe\\w*', r'korrektur', r'anpassung', r'method\\w*', r'aktualisierung', r'update']\n",
    "my_KWL_sub1 = [r'vorjahr\\w*', r'[0-9]{4}']\n",
    "my_KWL_sub2 = [r'angepasst\\w*', r'anpass\\w*', r'korrigier\\w*', r'aktualisier\\w*', r'verbess\\w*', r'\\w*änder\\w*', r'ausbesser\\w*', r'aufdatier\\w*', r'upgedated', r'geupdated']\n",
    "\n",
    "my_KWL = [r'neubehandlung', r'wert\\w*', r'daten', r'\\w*wechsel', r'technisch\\w*\\s*gründe\\w*', r'korrektur', r'anpassung', r'method\\w*', r'aktualisierung', r'update', r'vorjahr\\w*', r'[0-9]{4}', r'angepasst\\w*', r'anpass\\w*', r'korrigier\\w*', r'aktualisier\\w*', r'verbess\\w*', r'\\w*änder\\w*', r'ausbesser\\w*', r'aufdatier\\w*', r'upgedated', r'geupdated']"
   ]
  },
  {
   "cell_type": "code",
   "execution_count": 114,
   "metadata": {},
   "outputs": [
    {
     "name": "stdout",
     "output_type": "stream",
     "text": [
      "9\n"
     ]
    }
   ],
   "source": [
    "counter = 0 \n",
    "satz = 'Das hier ist ein Beispiel-restatement welches die wert wert wert von 2019 und 2020 geupdeted zur Verfügung stellen soll und dabei wegen eines Wechsels der Methode auf eine Änderung der Daten hinweist.'.lower()\n",
    "for key in my_KWL:\n",
    "    if re.search(key, satz):\n",
    "        counter += len(re.findall(key, satz))\n",
    "print(counter)"
   ]
  },
  {
   "cell_type": "code",
   "execution_count": 115,
   "metadata": {},
   "outputs": [
    {
     "data": {
      "text/plain": [
       "'das hier ist ein beispiel-restatement welches die wert wert wert von 2019 und 2020 geupdeted zur verfügung stellen soll und dabei wegen eines wechsels der methode auf eine änderung der daten hinweist.'"
      ]
     },
     "execution_count": 115,
     "metadata": {},
     "output_type": "execute_result"
    }
   ],
   "source": [
    "satz"
   ]
  },
  {
   "cell_type": "code",
   "execution_count": 116,
   "metadata": {},
   "outputs": [],
   "source": [
    "#=============================================================================================\n",
    "# 1. MATCH COUNT\n",
    "#=============================================================================================\n",
    "\n",
    "# Pfadliste\n",
    "pfade = Path.fetch(\"test_data\")"
   ]
  },
  {
   "cell_type": "code",
   "execution_count": 117,
   "metadata": {},
   "outputs": [
    {
     "ename": "SyntaxError",
     "evalue": "cannot assign to function call (<ipython-input-117-08b19e517792>, line 49)",
     "output_type": "error",
     "traceback": [
      "\u001b[1;36m  File \u001b[1;32m\"<ipython-input-117-08b19e517792>\"\u001b[1;36m, line \u001b[1;32m49\u001b[0m\n\u001b[1;33m    satz_dict(satz) = kw_counter\u001b[0m\n\u001b[1;37m    ^\u001b[0m\n\u001b[1;31mSyntaxError\u001b[0m\u001b[1;31m:\u001b[0m cannot assign to function call\n"
     ]
    }
   ],
   "source": [
    "for file in pfade:\n",
    "    print(file)\n",
    "    \n",
    "    # Jahresabschluss einlesen\n",
    "    parsedPDF = parser.from_file(file) \n",
    "\n",
    "    # Name des Dokuments speichern\n",
    "    name = os.path.basename(file)[0:-4] #letzter Block um \".pdf\" abzuschneiden\n",
    "    \n",
    "    # Jahr des Berichts speichern\n",
    "    year = int(re.findall(r'[0-9]{4}', file)[0])\n",
    "    \n",
    "    # Einzelne Seiten aufrufen und Berichtslänge speichern\n",
    "    pages_raw = parsedPDF['content'].split('\\n\\n\\n\\n')\n",
    "    pages = [page for page in pages_raw if len(page)] # HIER SIND NOCH UMLAUTE, bEIM SPEICHERN NACHHER NICHT?\n",
    "    length = len(pages_raw)\n",
    "    \n",
    "    # Seitenzähler und satz_dict innitiieren\n",
    "    page_number = 0\n",
    "    satz_dict = {}\n",
    "    \n",
    "    for page in pages:\n",
    "        \n",
    "        page_number += 1\n",
    "        \n",
    "        # Text_prep: Absätze (\\n), Tabs (\\t) und Semikoli raus; alles klein schreiben ; Liste aus Sätzen erstellen \n",
    "        text = page.replace('\\n', \"\").replace('\\t', \"\").replace(\";\", '').strip().lower()\n",
    "        satz_liste = text.split('.')\n",
    "\n",
    "        # Satzweise die gesamte KWL checken lassen. Wenn Match, dann Satz m it Nummer in Match_Liste ablegen\n",
    "        satz_counter = 0\n",
    "        for satz in satz_liste:\n",
    "            \n",
    "            satz_counter += 1\n",
    "            \n",
    "            kw_counter = 0 \n",
    "        \n",
    "            for key in my_KWL_prime:\n",
    "                if re.search(key, satz):\n",
    "                    kw_counter += len(re.findall(key, satz))\n",
    "            for key in my_KWL_sub1:\n",
    "                if re.search(key, satz):\n",
    "                    kw_counter += len(re.findall(key, satz))\n",
    "            for key in my_KWL_sub2:\n",
    "                if re.search(key, satz):\n",
    "                    kw_counter += len(re.findall(key, satz))\n",
    "            \n",
    "            print(kw_counter)\n",
    "            satz_dict(satz) = kw_counter\n",
    "    \n",
    "    satz_dict = dict(sorted(satz_dict.items(), key=lambda item: item[1], reverse = True)) # hier hab ich ein absteigend sortiertes satz_dict alá (satz: anzahl_matches),...\n",
    "    satz_dict_rev = [(count, satz) for (satz, count) in list(satz_dict.items())]\n",
    "    \n",
    "    with open(\"./arbeitsprobe_perl.csv\", \"a\", encoding=\"utf-8\") as File:\n",
    "        \n",
    "        for i in range(len(satz_dict)):\n",
    "            \n",
    "            if satz_dict_rev[1] >= 2: # Annahme: Man braucht 2 Matches um ein restatement auszumachen. \n",
    "                File.write(u\"{};{};{};{};{}\\n\".format(name, year, length, satz)) #page_number, satz_counter, key,"
   ]
  },
  {
   "cell_type": "code",
   "execution_count": null,
   "metadata": {},
   "outputs": [
    {
     "name": "stdout",
     "output_type": "stream",
     "text": [
      "C:\\Users\\test\\Documents\\GitHub\\hhu_whk_project_restatements\\test_data\\Bayer AG2009_SR.pdf\n"
     ]
    },
    {
     "name": "stderr",
     "output_type": "stream",
     "text": [
      "2021-07-10 17:24:16,845 [MainThread  ] [INFO ]  Retrieving http://search.maven.org/remotecontent?filepath=org/apache/tika/tika-server/1.24/tika-server-1.24.jar to C:\\Users\\test\\AppData\\Local\\Temp\\tika-server.jar.\n"
     ]
    }
   ],
   "source": [
    "for file in pfade:\n",
    "    print(file)\n",
    "    \n",
    "    # Jahresabschluss einlesen\n",
    "    parsedPDF = parser.from_file(file) \n",
    "\n",
    "    # Name des Dokuments speichern\n",
    "    name = os.path.basename(file)[0:-4] #letzter Block um \".pdf\" abzuschneiden\n",
    "    \n",
    "    # Jahr des Berichts speichern\n",
    "    year = int(re.findall(r'[0-9]{4}', file)[0])\n",
    "    \n",
    "    # Einzelne Seiten aufrufen und Berichtslänge speichern\n",
    "    pages_raw = parsedPDF['content'].split('\\n\\n\\n\\n')\n",
    "    pages = [page for page in pages_raw if len(page)] # HIER SIND NOCH UMLAUTE, bEIM SPEICHERN NACHHER NICHT?\n",
    "    length = len(pages_raw)\n",
    "    \n",
    "    # Seitenzähler und satz_dict innitiieren\n",
    "    page_number = 0\n",
    "    satz_dict = {}\n",
    "    \n",
    "    for page in pages:\n",
    "        \n",
    "        page_number += 1\n",
    "        \n",
    "        # Text_prep: Absätze (\\n), Tabs (\\t) und Semikoli raus; alles klein schreiben ; Liste aus Sätzen erstellen \n",
    "        text = page.replace('\\n', \"\").replace('\\t', \"\").replace(\";\", '').strip().lower()\n",
    "        satz_liste = text.split('.')\n",
    "\n",
    "        # Satzweise die gesamte KWL checken lassen. Wenn Match, dann Satz m it Nummer in Match_Liste ablegen\n",
    "        satz_counter = 0\n",
    "        for satz in satz_liste:\n",
    "            \n",
    "            satz_counter += 1\n",
    "            \n",
    "            kw_counter = 0 \n",
    "        \n",
    "            for key in my_KWL_prime:\n",
    "                if re.search(key, satz):\n",
    "                    kw_counter += len(re.findall(key, satz))\n",
    "            for key in my_KWL_sub1:\n",
    "                if re.search(key, satz):\n",
    "                    kw_counter += len(re.findall(key, satz))\n",
    "            for key in my_KWL_sub2:\n",
    "                if re.search(key, satz):\n",
    "                    kw_counter += len(re.findall(key, satz))\n",
    "            \n",
    "            print(kw_counter)"
   ]
  },
  {
   "cell_type": "code",
   "execution_count": null,
   "metadata": {},
   "outputs": [],
   "source": []
  },
  {
   "cell_type": "code",
   "execution_count": null,
   "metadata": {},
   "outputs": [],
   "source": []
  }
 ],
 "metadata": {
  "kernelspec": {
   "display_name": "Python 3",
   "language": "python",
   "name": "python3"
  },
  "language_info": {
   "codemirror_mode": {
    "name": "ipython",
    "version": 3
   },
   "file_extension": ".py",
   "mimetype": "text/x-python",
   "name": "python",
   "nbconvert_exporter": "python",
   "pygments_lexer": "ipython3",
   "version": "3.8.5"
  }
 },
 "nbformat": 4,
 "nbformat_minor": 4
}
