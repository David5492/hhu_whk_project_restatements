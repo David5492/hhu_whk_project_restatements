{
 "cells": [
  {
   "cell_type": "code",
   "execution_count": 6,
   "metadata": {},
   "outputs": [],
   "source": [
    "from tika import parser\n",
    "import string\n",
    "import re\n",
    "import io\n",
    "import os\n",
    "\n",
    "\n",
    "\n",
    "def Extractor(path_list):\n",
    "    \n",
    "    \"\"\"\n",
    "    Bekommt Liste mit Dateipfaden.\n",
    "    Öffnet jeden Pfad.\n",
    "    Extrahiert Roh-text und Metadaten: Datum, Sprache, Seitenanzahl\n",
    "    Führt komplettes NLP am Text durch. Achtet dabei auf die Sprache der Datein.\n",
    "        1. Lowercase\n",
    "        2. Nummern raus\n",
    "        3. Satzzeichen raus\n",
    "        4. Leerzeichen raus\n",
    "    \n",
    "    \"\"\"\n",
    "    \n",
    "    global matches, keywords\n",
    "    \n",
    "    for file in path_list:\n",
    "        \n",
    "        # Lesen\n",
    "        parsedPDF = parser.from_file(file)\n",
    "        \n",
    "        # Metadaten\n",
    "        name = os.path.basename(file)\n",
    "        keywords = []\n",
    "        # date = parsedPDF[\"metadata\"][\"created\"][0:5]\n",
    "        # language = parsedPDF[\"metadata\"][\"language\"]\n",
    "        # pages = parsedPDF[\"metadata\"][\"xmpTPg:NPages\"]\n",
    "        \n",
    "        # Text_prep\n",
    "        text_raw = parsedPDF[\"content\"].replace('\\n', \"\").replace('\\t', \"\").strip().lower() # \\n, \\t raus und alles lower case\n",
    "        text_w_num = [word for word in text_raw if word not in string.digits] # digits raus\n",
    "        text = \"\".join([word for word in text_w_num if word not in string.punctuation]) # punktierung raus\n",
    "        \n",
    "        \n",
    "        # Regex-Matcher\n",
    "        \n",
    "        matches = 0\n",
    "        KWL = []\n",
    "        \n",
    "        with open(\"KWL.txt\", \"r\", encoding=\"utf-8\") as KWL_file:\n",
    "            for line in KWL_file:\n",
    "                KWL.append(line.strip())\n",
    "        \n",
    "        for key in KWL:\n",
    "            \n",
    "            if re.search(key, text):\n",
    "                matches += 1\n",
    "                keywords.append(key)\n",
    "        matches = str(matches)\n",
    "        \n",
    "        # Create new row\n",
    "        \n",
    "        \n",
    "        input_list = \",\".join([name,  matches]) # language, date, pages,\n",
    "        \n",
    "        with open(\"./final.csv\", \"a\") as File:\n",
    "            File.write(f\"{input_list}\\n\")       \n",
    "        \n",
    "        with open(\"./eingelesen.txt\", \"a\") as File:\n",
    "            File.write(f\"{file}\\n\")\n",
    "        \n",
    "        print(f\"done: {name}. Matches: {matches} {keywords}\")\n",
    "\n",
    "\n"
   ]
  },
  {
   "cell_type": "code",
   "execution_count": 7,
   "metadata": {},
   "outputs": [
    {
     "name": "stdout",
     "output_type": "stream",
     "text": [
      "done: Bayer AG2009_SR.pdf. Matches: 9 ['aktualisieren', 'aktualisiert', 'angepasst', 'bearbeitet', 'bereinigt', 'geändert', 'korrigieren', 'korrigiert', 'überarbeitet']\n",
      "done: BMW AG2008_SR.pdf. Matches: 6 ['aktualisiert', 'angepasst', 'anpassen', 'bearbeitet', 'geändert', 'überarbeitet']\n",
      "done: Deutsche Post AG2010_SR.pdf. Matches: 9 ['aktualisieren', 'aktualisiert', 'angepasst', 'anpassen', 'bearbeitet', 'beheben', 'geändert', 'korrigiert', 'überarbeitet']\n",
      "done: E.ON AG2011_SR.pdf. Matches: 11 ['aktualisieren', 'aktualisiert', 'angepasst', 'anpassen', 'bearbeiten', 'bearbeitet', 'beheben', 'geändert', 'korrigieren', 'überarbeiten', 'überarbeitet']\n",
      "done: Evonik Industries AG2011_SR.pdf. Matches: 8 ['aktualisiert', 'angepasst', 'anpassen', 'bearbeiten', 'bearbeitet', 'geändert', 'überarbeiten', 'überarbeitet']\n",
      "done: Fraport AG FFM Airport2012_SR.pdf. Matches: 8 ['aktualisiert', 'angepasst', 'bearbeiten', 'beheben', 'geändert', 'korrigiert', 'rückwirkend', 'überarbeitet']\n",
      "done: Henkel AG_Co.KGAA2013_SR.pdf. Matches: 7 ['angepasst', 'bearbeitet', 'bereinigt', 'korrigieren', 'korrigiert', 'rückwirkend', 'überarbeitet']\n",
      "done: Linde AG_SR_2014.pdf. Matches: 10 ['angepasst', 'bearbeitet', 'beheben', 'bereinigt', 'geändert', 'neu ermittelt', 'nicht vergleic', 'rückwirkend', 'überarbeiten', 'überarbeitet']\n",
      "done: MAN SE_SR_2015.pdf. Matches: 7 ['aktualisiert', 'angepasst', 'bearbeitet', 'korrigieren', 'korrigiert', 'nicht vergleic', 'überarbeitet']\n",
      "done: RWE AG_SR_2016.pdf. Matches: 5 ['aktualisieren', 'aktualisiert', 'angepasst', 'bearbeitet', 'bereinigt']\n",
      "done: Telefonica DTLD HLDG AG_SR_2017.pdf. Matches: 9 ['aktualisiert', 'angepasst', 'bearbeiten', 'bearbeitet', 'beheben', 'bereinigt', 'geändert', 'überarbeiten', 'überarbeitet']\n",
      "done: Volkswagen AG_SR_2018.pdf. Matches: 7 ['aktualisieren', 'angepasst', 'anpassen', 'bearbeitet', 'korrigieren', 'rückwirkend', 'überarbeitet']\n"
     ]
    }
   ],
   "source": [
    "test = ['C:\\\\Users\\\\test\\\\Desktop\\\\Data Science\\\\WHK\\\\projekt_restatements\\\\test_data\\\\Bayer AG2009_SR.pdf',\n",
    "       'C:\\\\Users\\\\test\\\\Desktop\\\\Data Science\\\\WHK\\\\projekt_restatements\\\\test_data\\\\BMW AG2008_SR.pdf',\n",
    "       'C:\\\\Users\\\\test\\\\Desktop\\\\Data Science\\\\WHK\\\\projekt_restatements\\\\test_data\\\\Deutsche Post AG2010_SR.pdf',\n",
    "       'C:\\\\Users\\\\test\\\\Desktop\\\\Data Science\\\\WHK\\\\projekt_restatements\\\\test_data\\\\E.ON AG2011_SR.pdf',\n",
    "       'C:\\\\Users\\\\test\\\\Desktop\\\\Data Science\\\\WHK\\\\projekt_restatements\\\\test_data\\\\Evonik Industries AG2011_SR.pdf',\n",
    "       'C:\\\\Users\\\\test\\\\Desktop\\\\Data Science\\\\WHK\\\\projekt_restatements\\\\test_data\\\\Fraport AG FFM Airport2012_SR.pdf',\n",
    "        'C:\\\\Users\\\\test\\\\Desktop\\\\Data Science\\\\WHK\\\\projekt_restatements\\\\test_data\\\\Henkel AG_Co.KGAA2013_SR.pdf',\n",
    "        'C:\\\\Users\\\\test\\\\Desktop\\\\Data Science\\\\WHK\\\\projekt_restatements\\\\test_data\\\\Linde AG_SR_2014.pdf',\n",
    "        'C:\\\\Users\\\\test\\\\Desktop\\\\Data Science\\\\WHK\\\\projekt_restatements\\\\test_data\\\\MAN SE_SR_2015.pdf',\n",
    "        'C:\\\\Users\\\\test\\\\Desktop\\\\Data Science\\\\WHK\\\\projekt_restatements\\\\test_data\\\\RWE AG_SR_2016.pdf',\n",
    "        'C:\\\\Users\\\\test\\\\Desktop\\\\Data Science\\\\WHK\\\\projekt_restatements\\\\test_data\\\\Telefonica DTLD HLDG AG_SR_2017.pdf',\n",
    "        'C:\\\\Users\\\\test\\\\Desktop\\\\Data Science\\\\WHK\\\\projekt_restatements\\\\test_data\\\\Volkswagen AG_SR_2018.pdf'\n",
    "       ]\n",
    "blah = Extractor(test)\n",
    "blah"
   ]
  },
  {
   "cell_type": "code",
   "execution_count": 8,
   "metadata": {},
   "outputs": [
    {
     "data": {
      "text/plain": [
       "'Bayer AG2009_SR.pdf'"
      ]
     },
     "execution_count": 8,
     "metadata": {},
     "output_type": "execute_result"
    }
   ],
   "source": [
    "os.path.basename('C:\\\\Users\\\\test\\\\Desktop\\\\Data Science\\\\WHK\\\\projekt_restatements\\\\test_data\\\\Bayer AG2009_SR.pdf')"
   ]
  },
  {
   "cell_type": "code",
   "execution_count": null,
   "metadata": {},
   "outputs": [],
   "source": []
  }
 ],
 "metadata": {
  "kernelspec": {
   "display_name": "Python 3",
   "language": "python",
   "name": "python3"
  },
  "language_info": {
   "codemirror_mode": {
    "name": "ipython",
    "version": 3
   },
   "file_extension": ".py",
   "mimetype": "text/x-python",
   "name": "python",
   "nbconvert_exporter": "python",
   "pygments_lexer": "ipython3",
   "version": "3.8.5"
  }
 },
 "nbformat": 4,
 "nbformat_minor": 4
}
