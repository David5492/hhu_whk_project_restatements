{
 "cells": [
  {
   "cell_type": "code",
   "execution_count": 12,
   "metadata": {},
   "outputs": [],
   "source": [
    "path = 'C:\\\\Users\\\\test\\\\Desktop\\\\Data Science\\\\WHK\\\\projekt_restatements\\\\data\\\\raw\\\\sample_CDAX1920\\\\1+1 DRILLISCH AG\\\\AR\\\\1+1 DRILLISCH AG2019_AR.pdf'\n",
    "\n",
    "with open(\"eingelesen.txt\", \"a\") as File:\n",
    "    File.write(f\"{path}\\n\")"
   ]
  },
  {
   "cell_type": "code",
   "execution_count": 14,
   "metadata": {},
   "outputs": [
    {
     "name": "stdout",
     "output_type": "stream",
     "text": [
      "yes\n",
      "yes\n"
     ]
    }
   ],
   "source": [
    "with open(\"eingelesen.txt\", \"r\") as File:\n",
    "    for line in File:\n",
    "        if path in line:\n",
    "            print(\"yes\")"
   ]
  },
  {
   "cell_type": "code",
   "execution_count": 18,
   "metadata": {},
   "outputs": [
    {
     "name": "stdout",
     "output_type": "stream",
     "text": [
      "yes\n",
      "yes\n"
     ]
    }
   ],
   "source": [
    "with open(\"eingelesen.txt\", \"r\") as File:\n",
    "    for line in File:\n",
    "        if path in line:\n",
    "            print(\"yes\")\n",
    "    for line in File:\n",
    "        if path in line:\n",
    "            print(\"yes\")"
   ]
  },
  {
   "cell_type": "code",
   "execution_count": 20,
   "metadata": {},
   "outputs": [
    {
     "ename": "ValueError",
     "evalue": "I/O operation on closed file.",
     "output_type": "error",
     "traceback": [
      "\u001b[1;31m---------------------------------------------------------------------------\u001b[0m",
      "\u001b[1;31mValueError\u001b[0m                                Traceback (most recent call last)",
      "\u001b[1;32m<ipython-input-20-e6060ad3d278>\u001b[0m in \u001b[0;36m<module>\u001b[1;34m\u001b[0m\n\u001b[1;32m----> 1\u001b[1;33m \u001b[1;32mfor\u001b[0m \u001b[0mline\u001b[0m \u001b[1;32min\u001b[0m \u001b[0mFile\u001b[0m\u001b[1;33m:\u001b[0m\u001b[1;33m\u001b[0m\u001b[1;33m\u001b[0m\u001b[0m\n\u001b[0m\u001b[0;32m      2\u001b[0m     \u001b[0mprint\u001b[0m\u001b[1;33m(\u001b[0m\u001b[1;34m\"ha\"\u001b[0m\u001b[1;33m)\u001b[0m\u001b[1;33m\u001b[0m\u001b[1;33m\u001b[0m\u001b[0m\n",
      "\u001b[1;31mValueError\u001b[0m: I/O operation on closed file."
     ]
    }
   ],
   "source": [
    "for line in File:\n",
    "    print(\"ha\")"
   ]
  },
  {
   "cell_type": "code",
   "execution_count": 21,
   "metadata": {},
   "outputs": [
    {
     "name": "stdout",
     "output_type": "stream",
     "text": [
      "name,date,language,pages,matches\n"
     ]
    }
   ],
   "source": [
    "with open(\"final.csv\", \"r\") as File:\n",
    "    for line in File:\n",
    "        print(line)"
   ]
  },
  {
   "cell_type": "code",
   "execution_count": 22,
   "metadata": {},
   "outputs": [
    {
     "name": "stdout",
     "output_type": "stream",
     "text": [
      "yes\n"
     ]
    }
   ],
   "source": [
    "import re\n",
    "\n",
    "test = \"test123\"\n",
    "if re.search(\"e\", test):\n",
    "    print(\"yes\")"
   ]
  },
  {
   "cell_type": "code",
   "execution_count": 24,
   "metadata": {},
   "outputs": [],
   "source": [
    "with open(\"./final.csv\", \"a\") as File:\n",
    "    File.write(\"name,date,pages,matches\\n\") "
   ]
  },
  {
   "cell_type": "code",
   "execution_count": 1,
   "metadata": {},
   "outputs": [],
   "source": [
    "import os\n",
    "import path"
   ]
  },
  {
   "cell_type": "code",
   "execution_count": 2,
   "metadata": {},
   "outputs": [
    {
     "data": {
      "text/plain": [
       "'C:\\\\Users\\\\test\\\\Desktop\\\\Data Science\\\\WHK\\\\projekt_restatements'"
      ]
     },
     "execution_count": 2,
     "metadata": {},
     "output_type": "execute_result"
    }
   ],
   "source": [
    "os.path.abspath('')"
   ]
  },
  {
   "cell_type": "code",
   "execution_count": 4,
   "metadata": {},
   "outputs": [
    {
     "data": {
      "text/plain": [
       "['C:\\\\Users\\\\test\\\\Desktop\\\\Data Science\\\\WHK\\\\projekt_restatements\\\\data\\\\raw\\\\sample_CDAX1920\\\\1+1 DRILLISCH AG\\\\AR\\\\1+1 DRILLISCH AG2019_AR.PDF',\n",
       " 'C:\\\\Users\\\\test\\\\Desktop\\\\Data Science\\\\WHK\\\\projekt_restatements\\\\data\\\\raw\\\\sample_CDAX1920\\\\1+1 DRILLISCH AG\\\\AR\\\\1+1 DRILLISCH AG2019_AR_eng.PDF',\n",
       " 'C:\\\\Users\\\\test\\\\Desktop\\\\Data Science\\\\WHK\\\\projekt_restatements\\\\data\\\\raw\\\\sample_CDAX1920\\\\1+1 DRILLISCH AG\\\\AR\\\\1+1 DRILLISCH AG2020_AR.pdf',\n",
       " 'C:\\\\Users\\\\test\\\\Desktop\\\\Data Science\\\\WHK\\\\projekt_restatements\\\\data\\\\raw\\\\sample_CDAX1920\\\\1+1 DRILLISCH AG\\\\AR\\\\1+1 DRILLISCH AG2020_AR_eng.pdf',\n",
       " 'C:\\\\Users\\\\test\\\\Desktop\\\\Data Science\\\\WHK\\\\projekt_restatements\\\\data\\\\raw\\\\sample_CDAX1920\\\\1+1 DRILLISCH AG\\\\SR\\\\1+1 DRILLISCH AG2019_SR.pdf',\n",
       " 'C:\\\\Users\\\\test\\\\Desktop\\\\Data Science\\\\WHK\\\\projekt_restatements\\\\data\\\\raw\\\\sample_CDAX1920\\\\1+1 DRILLISCH AG\\\\SR\\\\1+1 DRILLISCH AG2019_SR_eng.pdf',\n",
       " 'C:\\\\Users\\\\test\\\\Desktop\\\\Data Science\\\\WHK\\\\projekt_restatements\\\\data\\\\raw\\\\sample_CDAX1920\\\\1+1 DRILLISCH AG\\\\SR\\\\1+1 DRILLISCH AG2019_SR_eng_test.pdf',\n",
       " 'C:\\\\Users\\\\test\\\\Desktop\\\\Data Science\\\\WHK\\\\projekt_restatements\\\\data\\\\raw\\\\sample_CDAX1920\\\\1+1 DRILLISCH AG\\\\SR\\\\1+1 DRILLISCH AG2020_SR.pdf',\n",
       " 'C:\\\\Users\\\\test\\\\Desktop\\\\Data Science\\\\WHK\\\\projekt_restatements\\\\data\\\\raw\\\\sample_CDAX1920\\\\1+1 DRILLISCH AG\\\\SR\\\\1+1 DRILLISCH AG2020_SR_eng.pdf',\n",
       " 'C:\\\\Users\\\\test\\\\Desktop\\\\Data Science\\\\WHK\\\\projekt_restatements\\\\data\\\\raw\\\\sample_CDAX1920\\\\A.SPRINGER AG\\\\AR\\\\A.SPRINGER AG2019_AR.pdf',\n",
       " 'C:\\\\Users\\\\test\\\\Desktop\\\\Data Science\\\\WHK\\\\projekt_restatements\\\\data\\\\raw\\\\sample_CDAX1920\\\\A.SPRINGER AG\\\\AR\\\\A.SPRINGER AG2019_AR_eng.pdf',\n",
       " 'C:\\\\Users\\\\test\\\\Desktop\\\\Data Science\\\\WHK\\\\projekt_restatements\\\\data\\\\raw\\\\sample_CDAX1920\\\\A.SPRINGER AG\\\\SR\\\\A.SPRINGER AG2019_NFB.pdf',\n",
       " 'C:\\\\Users\\\\test\\\\Desktop\\\\Data Science\\\\WHK\\\\projekt_restatements\\\\data\\\\raw\\\\sample_CDAX1920\\\\A.SPRINGER AG\\\\SR\\\\A.SPRINGER AG2019_NFB_eng.pdf',\n",
       " 'C:\\\\Users\\\\test\\\\Desktop\\\\Data Science\\\\WHK\\\\projekt_restatements\\\\data\\\\raw\\\\sample_CDAX1920\\\\ADIDAS AG\\\\AR\\\\ADIDAS AG2019_AR.pdf',\n",
       " 'C:\\\\Users\\\\test\\\\Desktop\\\\Data Science\\\\WHK\\\\projekt_restatements\\\\data\\\\raw\\\\sample_CDAX1920\\\\ADIDAS AG\\\\AR\\\\ADIDAS AG2019_AR_eng.pdf',\n",
       " 'C:\\\\Users\\\\test\\\\Desktop\\\\Data Science\\\\WHK\\\\projekt_restatements\\\\data\\\\raw\\\\sample_CDAX1920\\\\ADIDAS AG\\\\AR\\\\ADIDAS AG2020_AR.pdf',\n",
       " 'C:\\\\Users\\\\test\\\\Desktop\\\\Data Science\\\\WHK\\\\projekt_restatements\\\\data\\\\raw\\\\sample_CDAX1920\\\\ADIDAS AG\\\\AR\\\\ADIDAS AG2020_AR_eng.pdf',\n",
       " 'C:\\\\Users\\\\test\\\\Desktop\\\\Data Science\\\\WHK\\\\projekt_restatements\\\\data\\\\raw\\\\sample_CDAX1920\\\\ADVA AG\\\\AR\\\\ADVA AG2019_AR.pdf',\n",
       " 'C:\\\\Users\\\\test\\\\Desktop\\\\Data Science\\\\WHK\\\\projekt_restatements\\\\data\\\\raw\\\\sample_CDAX1920\\\\ADVA AG\\\\AR\\\\ADVA AG2019_AR_eng.pdf',\n",
       " 'C:\\\\Users\\\\test\\\\Desktop\\\\Data Science\\\\WHK\\\\projekt_restatements\\\\data\\\\raw\\\\sample_CDAX1920\\\\ADVA AG\\\\AR\\\\ADVA AG2020_AR.pdf',\n",
       " 'C:\\\\Users\\\\test\\\\Desktop\\\\Data Science\\\\WHK\\\\projekt_restatements\\\\data\\\\raw\\\\sample_CDAX1920\\\\ADVA AG\\\\AR\\\\ADVA AG2020_AR_eng.pdf',\n",
       " 'C:\\\\Users\\\\test\\\\Desktop\\\\Data Science\\\\WHK\\\\projekt_restatements\\\\data\\\\raw\\\\sample_CDAX1920\\\\ADVA AG\\\\SR\\\\ADVA AG2019_SR.pdf',\n",
       " 'C:\\\\Users\\\\test\\\\Desktop\\\\Data Science\\\\WHK\\\\projekt_restatements\\\\data\\\\raw\\\\sample_CDAX1920\\\\ADVA AG\\\\SR\\\\ADVA AG2019_SR_eng.pdf',\n",
       " 'C:\\\\Users\\\\test\\\\Desktop\\\\Data Science\\\\WHK\\\\projekt_restatements\\\\data\\\\raw\\\\sample_CDAX1920\\\\ADVA AG\\\\SR\\\\ADVA AG2020_SR.pdf',\n",
       " 'C:\\\\Users\\\\test\\\\Desktop\\\\Data Science\\\\WHK\\\\projekt_restatements\\\\data\\\\raw\\\\sample_CDAX1920\\\\ADVA AG\\\\SR\\\\ADVA AG2020_SR_eng.pdf',\n",
       " 'C:\\\\Users\\\\test\\\\Desktop\\\\Data Science\\\\WHK\\\\projekt_restatements\\\\data\\\\raw\\\\sample_CDAX1920\\\\AIRBUS\\\\AR\\\\AIRBUS2019_AR_eng.pdf',\n",
       " 'C:\\\\Users\\\\test\\\\Desktop\\\\Data Science\\\\WHK\\\\projekt_restatements\\\\data\\\\raw\\\\sample_CDAX1920\\\\AIRBUS\\\\AR\\\\AIRBUS2020_AR_eng.pdf',\n",
       " 'C:\\\\Users\\\\test\\\\Desktop\\\\Data Science\\\\WHK\\\\projekt_restatements\\\\data\\\\raw\\\\sample_CDAX1920\\\\AIXTRON SE\\\\AR\\\\AIXTRON SE2019_AR.pdf',\n",
       " 'C:\\\\Users\\\\test\\\\Desktop\\\\Data Science\\\\WHK\\\\projekt_restatements\\\\data\\\\raw\\\\sample_CDAX1920\\\\AIXTRON SE\\\\AR\\\\AIXTRON SE2019_AR_eng.pdf',\n",
       " 'C:\\\\Users\\\\test\\\\Desktop\\\\Data Science\\\\WHK\\\\projekt_restatements\\\\data\\\\raw\\\\sample_CDAX1920\\\\AIXTRON SE\\\\AR\\\\AIXTRON SE2020_AR.pdf',\n",
       " 'C:\\\\Users\\\\test\\\\Desktop\\\\Data Science\\\\WHK\\\\projekt_restatements\\\\data\\\\raw\\\\sample_CDAX1920\\\\AIXTRON SE\\\\AR\\\\AIXTRON SE2020_AR_eng.pdf',\n",
       " 'C:\\\\Users\\\\test\\\\Desktop\\\\Data Science\\\\WHK\\\\projekt_restatements\\\\data\\\\raw\\\\sample_CDAX1920\\\\AIXTRON SE\\\\SR\\\\AIXTRON SE2019_SR.pdf',\n",
       " 'C:\\\\Users\\\\test\\\\Desktop\\\\Data Science\\\\WHK\\\\projekt_restatements\\\\data\\\\raw\\\\sample_CDAX1920\\\\AIXTRON SE\\\\SR\\\\AIXTRON SE2019_SR_eng.pdf',\n",
       " 'C:\\\\Users\\\\test\\\\Desktop\\\\Data Science\\\\WHK\\\\projekt_restatements\\\\data\\\\raw\\\\sample_CDAX1920\\\\AIXTRON SE\\\\SR\\\\AIXTRON SE2020_SR.pdf',\n",
       " 'C:\\\\Users\\\\test\\\\Desktop\\\\Data Science\\\\WHK\\\\projekt_restatements\\\\data\\\\raw\\\\sample_CDAX1920\\\\AIXTRON SE\\\\SR\\\\AIXTRON SE2020_SR_eng.pdf',\n",
       " 'C:\\\\Users\\\\test\\\\Desktop\\\\Data Science\\\\WHK\\\\projekt_restatements\\\\data\\\\raw\\\\sample_CDAX1920\\\\AURUBIS AG\\\\AR\\\\AURUBIS AG20182019_AR.pdf',\n",
       " 'C:\\\\Users\\\\test\\\\Desktop\\\\Data Science\\\\WHK\\\\projekt_restatements\\\\data\\\\raw\\\\sample_CDAX1920\\\\AURUBIS AG\\\\AR\\\\AURUBIS AG20182019_AR_eng.pdf',\n",
       " 'C:\\\\Users\\\\test\\\\Desktop\\\\Data Science\\\\WHK\\\\projekt_restatements\\\\data\\\\raw\\\\sample_CDAX1920\\\\AURUBIS AG\\\\AR\\\\AURUBIS AG20192020_AR.pdf',\n",
       " 'C:\\\\Users\\\\test\\\\Desktop\\\\Data Science\\\\WHK\\\\projekt_restatements\\\\data\\\\raw\\\\sample_CDAX1920\\\\AURUBIS AG\\\\AR\\\\AURUBIS AG20192020_AR_eng.pdf',\n",
       " 'C:\\\\Users\\\\test\\\\Desktop\\\\Data Science\\\\WHK\\\\projekt_restatements\\\\data\\\\raw\\\\sample_CDAX1920\\\\AURUBIS AG\\\\SR\\\\AURUBIS AG20182019_NFB.pdf',\n",
       " 'C:\\\\Users\\\\test\\\\Desktop\\\\Data Science\\\\WHK\\\\projekt_restatements\\\\data\\\\raw\\\\sample_CDAX1920\\\\AURUBIS AG\\\\SR\\\\AURUBIS AG20182019_NFB_eng.pdf',\n",
       " 'C:\\\\Users\\\\test\\\\Desktop\\\\Data Science\\\\WHK\\\\projekt_restatements\\\\data\\\\raw\\\\sample_CDAX1920\\\\AURUBIS AG\\\\SR\\\\AURUBIS AG20192020_NFB.pdf',\n",
       " 'C:\\\\Users\\\\test\\\\Desktop\\\\Data Science\\\\WHK\\\\projekt_restatements\\\\data\\\\raw\\\\sample_CDAX1920\\\\AURUBIS AG\\\\SR\\\\AURUBIS AG20192020_NFB_eng.pdf',\n",
       " 'C:\\\\Users\\\\test\\\\Desktop\\\\Data Science\\\\WHK\\\\projekt_restatements\\\\data\\\\raw\\\\sample_CDAX1920\\\\AURUBIS AG\\\\SR\\\\AURUBIS AG20192020_SR.pdf',\n",
       " 'C:\\\\Users\\\\test\\\\Desktop\\\\Data Science\\\\WHK\\\\projekt_restatements\\\\data\\\\raw\\\\sample_CDAX1920\\\\AURUBIS AG\\\\SR\\\\AURUBIS AG20192020_SR_eng.pdf',\n",
       " 'C:\\\\Users\\\\test\\\\Desktop\\\\Data Science\\\\WHK\\\\projekt_restatements\\\\data\\\\raw\\\\sample_CDAX1920\\\\BASF SE\\\\AR\\\\BASF SE2019_AR.pdf',\n",
       " 'C:\\\\Users\\\\test\\\\Desktop\\\\Data Science\\\\WHK\\\\projekt_restatements\\\\data\\\\raw\\\\sample_CDAX1920\\\\BASF SE\\\\AR\\\\BASF SE2019_AR_eng.pdf',\n",
       " 'C:\\\\Users\\\\test\\\\Desktop\\\\Data Science\\\\WHK\\\\projekt_restatements\\\\data\\\\raw\\\\sample_CDAX1920\\\\BASF SE\\\\AR\\\\BASF SE2020_AR.pdf',\n",
       " 'C:\\\\Users\\\\test\\\\Desktop\\\\Data Science\\\\WHK\\\\projekt_restatements\\\\data\\\\raw\\\\sample_CDAX1920\\\\BASF SE\\\\AR\\\\BASF SE2020_AR_eng.pdf',\n",
       " 'C:\\\\Users\\\\test\\\\Desktop\\\\Data Science\\\\WHK\\\\projekt_restatements\\\\data\\\\raw\\\\sample_CDAX1920\\\\BAY.MOTOREN WERKE AG\\\\AR\\\\BAY.MOTOREN WERKE AG2019_AR.pdf',\n",
       " 'C:\\\\Users\\\\test\\\\Desktop\\\\Data Science\\\\WHK\\\\projekt_restatements\\\\data\\\\raw\\\\sample_CDAX1920\\\\BAY.MOTOREN WERKE AG\\\\AR\\\\BAY.MOTOREN WERKE AG2019_AR_eng.pdf',\n",
       " 'C:\\\\Users\\\\test\\\\Desktop\\\\Data Science\\\\WHK\\\\projekt_restatements\\\\data\\\\raw\\\\sample_CDAX1920\\\\BAY.MOTOREN WERKE AG\\\\AR\\\\BAY.MOTOREN WERKE AG2020_AR.pdf',\n",
       " 'C:\\\\Users\\\\test\\\\Desktop\\\\Data Science\\\\WHK\\\\projekt_restatements\\\\data\\\\raw\\\\sample_CDAX1920\\\\BAY.MOTOREN WERKE AG\\\\AR\\\\BAY.MOTOREN WERKE AG2020_AR_eng.pdf',\n",
       " 'C:\\\\Users\\\\test\\\\Desktop\\\\Data Science\\\\WHK\\\\projekt_restatements\\\\data\\\\raw\\\\sample_CDAX1920\\\\BAY.MOTOREN WERKE AG\\\\SR\\\\BAY.MOTOREN WERKE AG2019_SR.pdf',\n",
       " 'C:\\\\Users\\\\test\\\\Desktop\\\\Data Science\\\\WHK\\\\projekt_restatements\\\\data\\\\raw\\\\sample_CDAX1920\\\\BAY.MOTOREN WERKE AG\\\\SR\\\\BAY.MOTOREN WERKE AG2019_SR_eng.pdf',\n",
       " 'C:\\\\Users\\\\test\\\\Desktop\\\\Data Science\\\\WHK\\\\projekt_restatements\\\\data\\\\raw\\\\sample_CDAX1920\\\\BAYER AG\\\\AR\\\\BAYER AG2019_AR.pdf',\n",
       " 'C:\\\\Users\\\\test\\\\Desktop\\\\Data Science\\\\WHK\\\\projekt_restatements\\\\data\\\\raw\\\\sample_CDAX1920\\\\BAYER AG\\\\AR\\\\BAYER AG2019_AR_eng.pdf',\n",
       " 'C:\\\\Users\\\\test\\\\Desktop\\\\Data Science\\\\WHK\\\\projekt_restatements\\\\data\\\\raw\\\\sample_CDAX1920\\\\BAYER AG\\\\AR\\\\BAYER AG2020_AR.pdf',\n",
       " 'C:\\\\Users\\\\test\\\\Desktop\\\\Data Science\\\\WHK\\\\projekt_restatements\\\\data\\\\raw\\\\sample_CDAX1920\\\\BAYER AG\\\\AR\\\\BAYER AG2020_AR_eng.pdf',\n",
       " 'C:\\\\Users\\\\test\\\\Desktop\\\\Data Science\\\\WHK\\\\projekt_restatements\\\\data\\\\raw\\\\sample_CDAX1920\\\\BAYER AG\\\\SR\\\\BAYER AG2019_SR.pdf',\n",
       " 'C:\\\\Users\\\\test\\\\Desktop\\\\Data Science\\\\WHK\\\\projekt_restatements\\\\data\\\\raw\\\\sample_CDAX1920\\\\BAYER AG\\\\SR\\\\BAYER AG2019_SR_eng.pdf',\n",
       " 'C:\\\\Users\\\\test\\\\Desktop\\\\Data Science\\\\WHK\\\\projekt_restatements\\\\data\\\\raw\\\\sample_CDAX1920\\\\BAYER AG\\\\SR\\\\BAYER AG2020_SR.pdf',\n",
       " 'C:\\\\Users\\\\test\\\\Desktop\\\\Data Science\\\\WHK\\\\projekt_restatements\\\\data\\\\raw\\\\sample_CDAX1920\\\\BAYER AG\\\\SR\\\\BAYER AG2020_SR_eng.pdf',\n",
       " 'C:\\\\Users\\\\test\\\\Desktop\\\\Data Science\\\\WHK\\\\projekt_restatements\\\\data\\\\raw\\\\sample_CDAX1920\\\\BAYWA AG\\\\AR\\\\BAYWA AG2019_AR.pdf',\n",
       " 'C:\\\\Users\\\\test\\\\Desktop\\\\Data Science\\\\WHK\\\\projekt_restatements\\\\data\\\\raw\\\\sample_CDAX1920\\\\BAYWA AG\\\\AR\\\\BAYWA AG2019_AR_eng.pdf',\n",
       " 'C:\\\\Users\\\\test\\\\Desktop\\\\Data Science\\\\WHK\\\\projekt_restatements\\\\data\\\\raw\\\\sample_CDAX1920\\\\BAYWA AG\\\\AR\\\\BAYWA AG2020_AR.pdf',\n",
       " 'C:\\\\Users\\\\test\\\\Desktop\\\\Data Science\\\\WHK\\\\projekt_restatements\\\\data\\\\raw\\\\sample_CDAX1920\\\\BAYWA AG\\\\AR\\\\BAYWA AG2020_AR_eng.PDF',\n",
       " 'C:\\\\Users\\\\test\\\\Desktop\\\\Data Science\\\\WHK\\\\projekt_restatements\\\\data\\\\raw\\\\sample_CDAX1920\\\\BAYWA AG\\\\SR\\\\BAYWA AG2019_SR.pdf',\n",
       " 'C:\\\\Users\\\\test\\\\Desktop\\\\Data Science\\\\WHK\\\\projekt_restatements\\\\data\\\\raw\\\\sample_CDAX1920\\\\BAYWA AG\\\\SR\\\\BAYWA AG2019_SR_eng.pdf',\n",
       " 'C:\\\\Users\\\\test\\\\Desktop\\\\Data Science\\\\WHK\\\\projekt_restatements\\\\data\\\\raw\\\\sample_CDAX1920\\\\BAYWA AG\\\\SR\\\\BAYWA AG2020_SR.pdf',\n",
       " 'C:\\\\Users\\\\test\\\\Desktop\\\\Data Science\\\\WHK\\\\projekt_restatements\\\\data\\\\raw\\\\sample_CDAX1920\\\\BAYWA AG\\\\SR\\\\BAYWA AG2020_SR_eng.pdf',\n",
       " 'C:\\\\Users\\\\test\\\\Desktop\\\\Data Science\\\\WHK\\\\projekt_restatements\\\\data\\\\raw\\\\sample_CDAX1920\\\\BECHTLE AG\\\\AR\\\\BECHTLE AG2019_AR.pdf',\n",
       " 'C:\\\\Users\\\\test\\\\Desktop\\\\Data Science\\\\WHK\\\\projekt_restatements\\\\data\\\\raw\\\\sample_CDAX1920\\\\BECHTLE AG\\\\AR\\\\BECHTLE AG2019_AR_eng.pdf',\n",
       " 'C:\\\\Users\\\\test\\\\Desktop\\\\Data Science\\\\WHK\\\\projekt_restatements\\\\data\\\\raw\\\\sample_CDAX1920\\\\BECHTLE AG\\\\AR\\\\BECHTLE AG2020_AR.pdf',\n",
       " 'C:\\\\Users\\\\test\\\\Desktop\\\\Data Science\\\\WHK\\\\projekt_restatements\\\\data\\\\raw\\\\sample_CDAX1920\\\\BECHTLE AG\\\\AR\\\\BECHTLE AG2020_AR_eng.pdf',\n",
       " 'C:\\\\Users\\\\test\\\\Desktop\\\\Data Science\\\\WHK\\\\projekt_restatements\\\\data\\\\raw\\\\sample_CDAX1920\\\\BECHTLE AG\\\\SR\\\\BECHTLE AG2019_SR.pdf',\n",
       " 'C:\\\\Users\\\\test\\\\Desktop\\\\Data Science\\\\WHK\\\\projekt_restatements\\\\data\\\\raw\\\\sample_CDAX1920\\\\BECHTLE AG\\\\SR\\\\BECHTLE AG2019_SR_eng.pdf',\n",
       " 'C:\\\\Users\\\\test\\\\Desktop\\\\Data Science\\\\WHK\\\\projekt_restatements\\\\data\\\\raw\\\\sample_CDAX1920\\\\BECHTLE AG\\\\SR\\\\BECHTLE AG2020_SR.pdf',\n",
       " 'C:\\\\Users\\\\test\\\\Desktop\\\\Data Science\\\\WHK\\\\projekt_restatements\\\\data\\\\raw\\\\sample_CDAX1920\\\\BECHTLE AG\\\\SR\\\\BECHTLE AG2020_SR_eng.pdf',\n",
       " 'C:\\\\Users\\\\test\\\\Desktop\\\\Data Science\\\\WHK\\\\projekt_restatements\\\\data\\\\raw\\\\sample_CDAX1920\\\\BEIERSDORF AG\\\\AR\\\\BEIERSDORF AG2019_AR.PDF',\n",
       " 'C:\\\\Users\\\\test\\\\Desktop\\\\Data Science\\\\WHK\\\\projekt_restatements\\\\data\\\\raw\\\\sample_CDAX1920\\\\BEIERSDORF AG\\\\AR\\\\BEIERSDORF AG2019_AR_eng.PDF',\n",
       " 'C:\\\\Users\\\\test\\\\Desktop\\\\Data Science\\\\WHK\\\\projekt_restatements\\\\data\\\\raw\\\\sample_CDAX1920\\\\BEIERSDORF AG\\\\AR\\\\BEIERSDORF AG2020_AR.pdf',\n",
       " 'C:\\\\Users\\\\test\\\\Desktop\\\\Data Science\\\\WHK\\\\projekt_restatements\\\\data\\\\raw\\\\sample_CDAX1920\\\\BEIERSDORF AG\\\\AR\\\\BEIERSDORF AG2020_AR_eng.pdf',\n",
       " 'C:\\\\Users\\\\test\\\\Desktop\\\\Data Science\\\\WHK\\\\projekt_restatements\\\\data\\\\raw\\\\sample_CDAX1920\\\\BEIERSDORF AG\\\\SR\\\\BEIERSDORF AG2019_SR.pdf',\n",
       " 'C:\\\\Users\\\\test\\\\Desktop\\\\Data Science\\\\WHK\\\\projekt_restatements\\\\data\\\\raw\\\\sample_CDAX1920\\\\BEIERSDORF AG\\\\SR\\\\BEIERSDORF AG2019_SR_eng.pdf',\n",
       " 'C:\\\\Users\\\\test\\\\Desktop\\\\Data Science\\\\WHK\\\\projekt_restatements\\\\data\\\\raw\\\\sample_CDAX1920\\\\BEIERSDORF AG\\\\SR\\\\BEIERSDORF AG2020_SRzusätzlich.pdf',\n",
       " 'C:\\\\Users\\\\test\\\\Desktop\\\\Data Science\\\\WHK\\\\projekt_restatements\\\\data\\\\raw\\\\sample_CDAX1920\\\\BEIERSDORF AG\\\\SR\\\\BEIERSDORF AG2020_SRzusätzlich_eng.pdf',\n",
       " 'C:\\\\Users\\\\test\\\\Desktop\\\\Data Science\\\\WHK\\\\projekt_restatements\\\\data\\\\raw\\\\sample_CDAX1920\\\\BILFINGER BERGER SE\\\\AR\\\\BILFINGER BERGER SE2019_AR.pdf',\n",
       " 'C:\\\\Users\\\\test\\\\Desktop\\\\Data Science\\\\WHK\\\\projekt_restatements\\\\data\\\\raw\\\\sample_CDAX1920\\\\BILFINGER BERGER SE\\\\AR\\\\BILFINGER BERGER SE2019_AR_eng.pdf',\n",
       " 'C:\\\\Users\\\\test\\\\Desktop\\\\Data Science\\\\WHK\\\\projekt_restatements\\\\data\\\\raw\\\\sample_CDAX1920\\\\BILFINGER BERGER SE\\\\AR\\\\BILFINGER BERGER SE2020_AR.pdf',\n",
       " 'C:\\\\Users\\\\test\\\\Desktop\\\\Data Science\\\\WHK\\\\projekt_restatements\\\\data\\\\raw\\\\sample_CDAX1920\\\\BILFINGER BERGER SE\\\\AR\\\\BILFINGER BERGER SE2020_AR_eng.pdf',\n",
       " 'C:\\\\Users\\\\test\\\\Desktop\\\\Data Science\\\\WHK\\\\projekt_restatements\\\\data\\\\raw\\\\sample_CDAX1920\\\\BILFINGER BERGER SE\\\\SR\\\\BILFINGER BERGER SE2019_NFB.pdf',\n",
       " 'C:\\\\Users\\\\test\\\\Desktop\\\\Data Science\\\\WHK\\\\projekt_restatements\\\\data\\\\raw\\\\sample_CDAX1920\\\\BILFINGER BERGER SE\\\\SR\\\\BILFINGER BERGER SE2019_NFB_eng.pdf',\n",
       " 'C:\\\\Users\\\\test\\\\Desktop\\\\Data Science\\\\WHK\\\\projekt_restatements\\\\data\\\\raw\\\\sample_CDAX1920\\\\BILFINGER BERGER SE\\\\SR\\\\BILFINGER BERGER SE2020_NFB.pdf',\n",
       " 'C:\\\\Users\\\\test\\\\Desktop\\\\Data Science\\\\WHK\\\\projekt_restatements\\\\data\\\\raw\\\\sample_CDAX1920\\\\BILFINGER BERGER SE\\\\SR\\\\BILFINGER BERGER SE2020_NFB_eng.pdf',\n",
       " 'C:\\\\Users\\\\test\\\\Desktop\\\\Data Science\\\\WHK\\\\projekt_restatements\\\\data\\\\raw\\\\sample_CDAX1920\\\\Biotest AG\\\\AR\\\\Biotest AG2019_AR.pdf',\n",
       " 'C:\\\\Users\\\\test\\\\Desktop\\\\Data Science\\\\WHK\\\\projekt_restatements\\\\data\\\\raw\\\\sample_CDAX1920\\\\Biotest AG\\\\AR\\\\Biotest AG2019_AR_eng.pdf',\n",
       " 'C:\\\\Users\\\\test\\\\Desktop\\\\Data Science\\\\WHK\\\\projekt_restatements\\\\data\\\\raw\\\\sample_CDAX1920\\\\Biotest AG\\\\AR\\\\Biotest AG2020_AR_eng.pdf',\n",
       " 'C:\\\\Users\\\\test\\\\Desktop\\\\Data Science\\\\WHK\\\\projekt_restatements\\\\data\\\\raw\\\\sample_CDAX1920\\\\Biotest AG\\\\AR\\\\BiotestAG2020_AR.pdf',\n",
       " 'C:\\\\Users\\\\test\\\\Desktop\\\\Data Science\\\\WHK\\\\projekt_restatements\\\\data\\\\raw\\\\sample_CDAX1920\\\\Biotest AG\\\\SR\\\\Biotest AG2019_SR.pdf',\n",
       " 'C:\\\\Users\\\\test\\\\Desktop\\\\Data Science\\\\WHK\\\\projekt_restatements\\\\data\\\\raw\\\\sample_CDAX1920\\\\Biotest AG\\\\SR\\\\Biotest AG2019_SR_eng.pdf',\n",
       " 'C:\\\\Users\\\\test\\\\Desktop\\\\Data Science\\\\WHK\\\\projekt_restatements\\\\data\\\\raw\\\\sample_CDAX1920\\\\Biotest AG\\\\SR\\\\Biotest AG2020_SR .pdf',\n",
       " 'C:\\\\Users\\\\test\\\\Desktop\\\\Data Science\\\\WHK\\\\projekt_restatements\\\\data\\\\raw\\\\sample_CDAX1920\\\\Biotest AG\\\\SR\\\\Biotest AG2020_SR_eng.pdf',\n",
       " 'C:\\\\Users\\\\test\\\\Desktop\\\\Data Science\\\\WHK\\\\projekt_restatements\\\\data\\\\raw\\\\sample_CDAX1920\\\\BRENNTAG AG\\\\AR\\\\BRENNTAG AG2019_AR.pdf',\n",
       " 'C:\\\\Users\\\\test\\\\Desktop\\\\Data Science\\\\WHK\\\\projekt_restatements\\\\data\\\\raw\\\\sample_CDAX1920\\\\BRENNTAG AG\\\\AR\\\\BRENNTAG AG2019_AR_eng.pdf',\n",
       " 'C:\\\\Users\\\\test\\\\Desktop\\\\Data Science\\\\WHK\\\\projekt_restatements\\\\data\\\\raw\\\\sample_CDAX1920\\\\BRENNTAG AG\\\\AR\\\\BRENNTAG AG2020_AR.pdf',\n",
       " 'C:\\\\Users\\\\test\\\\Desktop\\\\Data Science\\\\WHK\\\\projekt_restatements\\\\data\\\\raw\\\\sample_CDAX1920\\\\BRENNTAG AG\\\\AR\\\\BRENNTAG AG2020_AR_eng.pdf',\n",
       " 'C:\\\\Users\\\\test\\\\Desktop\\\\Data Science\\\\WHK\\\\projekt_restatements\\\\data\\\\raw\\\\sample_CDAX1920\\\\BRENNTAG AG\\\\SR\\\\BRENNTAG AG2019_SR.pdf',\n",
       " 'C:\\\\Users\\\\test\\\\Desktop\\\\Data Science\\\\WHK\\\\projekt_restatements\\\\data\\\\raw\\\\sample_CDAX1920\\\\BRENNTAG AG\\\\SR\\\\BRENNTAG AG2019_SR_eng.pdf',\n",
       " 'C:\\\\Users\\\\test\\\\Desktop\\\\Data Science\\\\WHK\\\\projekt_restatements\\\\data\\\\raw\\\\sample_CDAX1920\\\\BRENNTAG AG\\\\SR\\\\BRENNTAG AG2020_SR.pdf',\n",
       " 'C:\\\\Users\\\\test\\\\Desktop\\\\Data Science\\\\WHK\\\\projekt_restatements\\\\data\\\\raw\\\\sample_CDAX1920\\\\BRENNTAG AG\\\\SR\\\\BRENNTAG AG2020_SR_eng.pdf',\n",
       " 'C:\\\\Users\\\\test\\\\Desktop\\\\Data Science\\\\WHK\\\\projekt_restatements\\\\data\\\\raw\\\\sample_CDAX1920\\\\CANCOM AG\\\\AR\\\\CANCOM AG2019_AR.pdf',\n",
       " 'C:\\\\Users\\\\test\\\\Desktop\\\\Data Science\\\\WHK\\\\projekt_restatements\\\\data\\\\raw\\\\sample_CDAX1920\\\\CANCOM AG\\\\AR\\\\CANCOM AG2019_AR_eng.pdf',\n",
       " 'C:\\\\Users\\\\test\\\\Desktop\\\\Data Science\\\\WHK\\\\projekt_restatements\\\\data\\\\raw\\\\sample_CDAX1920\\\\CANCOM AG\\\\AR\\\\CANCOM AG2020_AR.pdf',\n",
       " 'C:\\\\Users\\\\test\\\\Desktop\\\\Data Science\\\\WHK\\\\projekt_restatements\\\\data\\\\raw\\\\sample_CDAX1920\\\\CANCOM AG\\\\AR\\\\CANCOM AG2020_AR_eng.pdf',\n",
       " 'C:\\\\Users\\\\test\\\\Desktop\\\\Data Science\\\\WHK\\\\projekt_restatements\\\\data\\\\raw\\\\sample_CDAX1920\\\\CANCOM AG\\\\SR\\\\CANCOM AG2019_NFB.pdf',\n",
       " 'C:\\\\Users\\\\test\\\\Desktop\\\\Data Science\\\\WHK\\\\projekt_restatements\\\\data\\\\raw\\\\sample_CDAX1920\\\\CANCOM AG\\\\SR\\\\CANCOM AG2019_NFB_eng.pdf',\n",
       " 'C:\\\\Users\\\\test\\\\Desktop\\\\Data Science\\\\WHK\\\\projekt_restatements\\\\data\\\\raw\\\\sample_CDAX1920\\\\CANCOM AG\\\\SR\\\\CANCOM AG2020_NFB.pdf',\n",
       " 'C:\\\\Users\\\\test\\\\Desktop\\\\Data Science\\\\WHK\\\\projekt_restatements\\\\data\\\\raw\\\\sample_CDAX1920\\\\CANCOM AG\\\\SR\\\\CANCOM AG2020_NFB_eng.pdf',\n",
       " 'C:\\\\Users\\\\test\\\\Desktop\\\\Data Science\\\\WHK\\\\projekt_restatements\\\\data\\\\raw\\\\sample_CDAX1920\\\\CARL ZEISS MEDITEC AG\\\\AR\\\\CARL ZEISS MEDITEC AG20182019_AR.pdf',\n",
       " 'C:\\\\Users\\\\test\\\\Desktop\\\\Data Science\\\\WHK\\\\projekt_restatements\\\\data\\\\raw\\\\sample_CDAX1920\\\\CARL ZEISS MEDITEC AG\\\\AR\\\\CARL ZEISS MEDITEC AG20182019_AR_eng.pdf',\n",
       " 'C:\\\\Users\\\\test\\\\Desktop\\\\Data Science\\\\WHK\\\\projekt_restatements\\\\data\\\\raw\\\\sample_CDAX1920\\\\CARL ZEISS MEDITEC AG\\\\AR\\\\CARL ZEISS MEDITEC AG20192020_AR.pdf',\n",
       " 'C:\\\\Users\\\\test\\\\Desktop\\\\Data Science\\\\WHK\\\\projekt_restatements\\\\data\\\\raw\\\\sample_CDAX1920\\\\CARL ZEISS MEDITEC AG\\\\AR\\\\CARL ZEISS MEDITEC AG20192020_AR_eng.pdf',\n",
       " 'C:\\\\Users\\\\test\\\\Desktop\\\\Data Science\\\\WHK\\\\projekt_restatements\\\\data\\\\raw\\\\sample_CDAX1920\\\\CARL ZEISS MEDITEC AG\\\\SR\\\\CARL ZEISS MEDITEC AG20182019_NFB.pdf',\n",
       " 'C:\\\\Users\\\\test\\\\Desktop\\\\Data Science\\\\WHK\\\\projekt_restatements\\\\data\\\\raw\\\\sample_CDAX1920\\\\CARL ZEISS MEDITEC AG\\\\SR\\\\CARL ZEISS MEDITEC AG20182019_NFB_eng.pdf',\n",
       " 'C:\\\\Users\\\\test\\\\Desktop\\\\Data Science\\\\WHK\\\\projekt_restatements\\\\data\\\\raw\\\\sample_CDAX1920\\\\CARL ZEISS MEDITEC AG\\\\SR\\\\CARL ZEISS MEDITEC AG20182019_SR.pdf',\n",
       " 'C:\\\\Users\\\\test\\\\Desktop\\\\Data Science\\\\WHK\\\\projekt_restatements\\\\data\\\\raw\\\\sample_CDAX1920\\\\CARL ZEISS MEDITEC AG\\\\SR\\\\CARL ZEISS MEDITEC AG20182019_SR_eng.pdf',\n",
       " 'C:\\\\Users\\\\test\\\\Desktop\\\\Data Science\\\\WHK\\\\projekt_restatements\\\\data\\\\raw\\\\sample_CDAX1920\\\\CARL ZEISS MEDITEC AG\\\\SR\\\\CARL ZEISS MEDITEC AG20192020_NFB.pdf',\n",
       " 'C:\\\\Users\\\\test\\\\Desktop\\\\Data Science\\\\WHK\\\\projekt_restatements\\\\data\\\\raw\\\\sample_CDAX1920\\\\CARL ZEISS MEDITEC AG\\\\SR\\\\CARL ZEISS MEDITEC AG20192020_NFB_eng.pdf',\n",
       " 'C:\\\\Users\\\\test\\\\Desktop\\\\Data Science\\\\WHK\\\\projekt_restatements\\\\data\\\\raw\\\\sample_CDAX1920\\\\CARL ZEISS MEDITEC AG\\\\SR\\\\CARL ZEISS MEDITEC AG20192020_SR.pdf',\n",
       " 'C:\\\\Users\\\\test\\\\Desktop\\\\Data Science\\\\WHK\\\\projekt_restatements\\\\data\\\\raw\\\\sample_CDAX1920\\\\CARL ZEISS MEDITEC AG\\\\SR\\\\CARL ZEISS MEDITEC AG20192020_SR_eng.pdf',\n",
       " 'C:\\\\Users\\\\test\\\\Desktop\\\\Data Science\\\\WHK\\\\projekt_restatements\\\\data\\\\raw\\\\sample_CDAX1920\\\\CECONOMY AG\\\\AR\\\\CECONOMY AG20182019_AR.pdf',\n",
       " 'C:\\\\Users\\\\test\\\\Desktop\\\\Data Science\\\\WHK\\\\projekt_restatements\\\\data\\\\raw\\\\sample_CDAX1920\\\\CECONOMY AG\\\\AR\\\\CECONOMY AG20182019_AR_eng.pdf',\n",
       " 'C:\\\\Users\\\\test\\\\Desktop\\\\Data Science\\\\WHK\\\\projekt_restatements\\\\data\\\\raw\\\\sample_CDAX1920\\\\CECONOMY AG\\\\AR\\\\CECONOMY AG20192020_AR.pdf',\n",
       " 'C:\\\\Users\\\\test\\\\Desktop\\\\Data Science\\\\WHK\\\\projekt_restatements\\\\data\\\\raw\\\\sample_CDAX1920\\\\CECONOMY AG\\\\AR\\\\CECONOMY AG20192020_AR_eng.pdf',\n",
       " 'C:\\\\Users\\\\test\\\\Desktop\\\\Data Science\\\\WHK\\\\projekt_restatements\\\\data\\\\raw\\\\sample_CDAX1920\\\\CELESIO AG\\\\AR\\\\CELESIO AG2019_AR.pdf',\n",
       " 'C:\\\\Users\\\\test\\\\Desktop\\\\Data Science\\\\WHK\\\\projekt_restatements\\\\data\\\\raw\\\\sample_CDAX1920\\\\CELESIO AG\\\\AR\\\\CELESIO AG2019_AR_eng.pdf',\n",
       " 'C:\\\\Users\\\\test\\\\Desktop\\\\Data Science\\\\WHK\\\\projekt_restatements\\\\data\\\\raw\\\\sample_CDAX1920\\\\CELESIO AG\\\\AR\\\\CELESIO AG2020_AR.pdf',\n",
       " 'C:\\\\Users\\\\test\\\\Desktop\\\\Data Science\\\\WHK\\\\projekt_restatements\\\\data\\\\raw\\\\sample_CDAX1920\\\\CELESIO AG\\\\AR\\\\CELESIO AG2020_AR_eng.pdf',\n",
       " 'C:\\\\Users\\\\test\\\\Desktop\\\\Data Science\\\\WHK\\\\projekt_restatements\\\\data\\\\raw\\\\sample_CDAX1920\\\\CELESIO AG\\\\SR\\\\CELESIO AG2019_SR.pdf',\n",
       " 'C:\\\\Users\\\\test\\\\Desktop\\\\Data Science\\\\WHK\\\\projekt_restatements\\\\data\\\\raw\\\\sample_CDAX1920\\\\CELESIO AG\\\\SR\\\\CELESIO AG2019_SR_eng.pdf',\n",
       " 'C:\\\\Users\\\\test\\\\Desktop\\\\Data Science\\\\WHK\\\\projekt_restatements\\\\data\\\\raw\\\\sample_CDAX1920\\\\CELESIO AG\\\\SR\\\\CELESIO AG2020_SR_eng.pdf',\n",
       " 'C:\\\\Users\\\\test\\\\Desktop\\\\Data Science\\\\WHK\\\\projekt_restatements\\\\data\\\\raw\\\\sample_CDAX1920\\\\COMPUGROUP MED.AG\\\\AR\\\\COMPUGROUP MED.AG2019_AR.pdf',\n",
       " 'C:\\\\Users\\\\test\\\\Desktop\\\\Data Science\\\\WHK\\\\projekt_restatements\\\\data\\\\raw\\\\sample_CDAX1920\\\\COMPUGROUP MED.AG\\\\AR\\\\COMPUGROUP MED.AG2019_AR_eng.pdf',\n",
       " 'C:\\\\Users\\\\test\\\\Desktop\\\\Data Science\\\\WHK\\\\projekt_restatements\\\\data\\\\raw\\\\sample_CDAX1920\\\\COMPUGROUP MED.AG\\\\AR\\\\COMPUGROUP MED.AG2020_AR.pdf',\n",
       " 'C:\\\\Users\\\\test\\\\Desktop\\\\Data Science\\\\WHK\\\\projekt_restatements\\\\data\\\\raw\\\\sample_CDAX1920\\\\COMPUGROUP MED.AG\\\\AR\\\\COMPUGROUP MED.AG2020_AR_eng.pdf',\n",
       " 'C:\\\\Users\\\\test\\\\Desktop\\\\Data Science\\\\WHK\\\\projekt_restatements\\\\data\\\\raw\\\\sample_CDAX1920\\\\COMPUGROUP MED.AG\\\\SR\\\\COMPUGROUP MED.AG2019_NFB.pdf',\n",
       " 'C:\\\\Users\\\\test\\\\Desktop\\\\Data Science\\\\WHK\\\\projekt_restatements\\\\data\\\\raw\\\\sample_CDAX1920\\\\COMPUGROUP MED.AG\\\\SR\\\\COMPUGROUP MED.AG2019_NFB_eng.pdf',\n",
       " 'C:\\\\Users\\\\test\\\\Desktop\\\\Data Science\\\\WHK\\\\projekt_restatements\\\\data\\\\raw\\\\sample_CDAX1920\\\\COMPUGROUP MED.AG\\\\SR\\\\COMPUGROUP MED.AG2020_NFB.pdf',\n",
       " 'C:\\\\Users\\\\test\\\\Desktop\\\\Data Science\\\\WHK\\\\projekt_restatements\\\\data\\\\raw\\\\sample_CDAX1920\\\\COMPUGROUP MED.AG\\\\SR\\\\COMPUGROUP MED.AG2020_NFB_eng.pdf',\n",
       " 'C:\\\\Users\\\\test\\\\Desktop\\\\Data Science\\\\WHK\\\\projekt_restatements\\\\modules\\\\__pycache__\\\\nlpPrep.cpython-38.pyc',\n",
       " 'C:\\\\Users\\\\test\\\\Desktop\\\\Data Science\\\\WHK\\\\projekt_restatements\\\\modules\\\\__pycache__\\\\Path.cpython-38.pyc',\n",
       " 'C:\\\\Users\\\\test\\\\Desktop\\\\Data Science\\\\WHK\\\\projekt_restatements\\\\modules\\\\__pycache__\\\\PathFetcher.cpython-38.pyc',\n",
       " 'C:\\\\Users\\\\test\\\\Desktop\\\\Data Science\\\\WHK\\\\projekt_restatements\\\\modules\\\\__pycache__\\\\Text.cpython-38.pyc',\n",
       " 'C:\\\\Users\\\\test\\\\Desktop\\\\Data Science\\\\WHK\\\\projekt_restatements\\\\modules\\\\__pycache__\\\\__init__.cpython-38.pyc',\n",
       " 'C:\\\\Users\\\\test\\\\Desktop\\\\Data Science\\\\WHK\\\\projekt_restatements\\\\modules\\\\nlpPrep.py',\n",
       " 'C:\\\\Users\\\\test\\\\Desktop\\\\Data Science\\\\WHK\\\\projekt_restatements\\\\modules\\\\Path.py',\n",
       " 'C:\\\\Users\\\\test\\\\Desktop\\\\Data Science\\\\WHK\\\\projekt_restatements\\\\modules\\\\__init__.py',\n",
       " 'C:\\\\Users\\\\test\\\\Desktop\\\\Data Science\\\\WHK\\\\projekt_restatements\\\\README\\\\kick_off.pdf',\n",
       " 'C:\\\\Users\\\\test\\\\Desktop\\\\Data Science\\\\WHK\\\\projekt_restatements\\\\README\\\\Michelon et al. 2018_EAR_Creating Legitimacy for Sustainability Assurance Practices Evidence from Sustainability Restatements.pdf',\n",
       " 'C:\\\\Users\\\\test\\\\Desktop\\\\Data Science\\\\WHK\\\\projekt_restatements\\\\README\\\\psydo_code_prep.txt',\n",
       " 'C:\\\\Users\\\\test\\\\Desktop\\\\Data Science\\\\WHK\\\\projekt_restatements\\\\test_data\\\\Bayer AG2009_SR.pdf',\n",
       " 'C:\\\\Users\\\\test\\\\Desktop\\\\Data Science\\\\WHK\\\\projekt_restatements\\\\test_data\\\\BMW AG2008_SR.pdf',\n",
       " 'C:\\\\Users\\\\test\\\\Desktop\\\\Data Science\\\\WHK\\\\projekt_restatements\\\\test_data\\\\Deutsche Post AG2010_SR.pdf',\n",
       " 'C:\\\\Users\\\\test\\\\Desktop\\\\Data Science\\\\WHK\\\\projekt_restatements\\\\test_data\\\\E.ON AG2011_SR.pdf',\n",
       " 'C:\\\\Users\\\\test\\\\Desktop\\\\Data Science\\\\WHK\\\\projekt_restatements\\\\test_data\\\\Evonik Industries AG2011_SR.pdf',\n",
       " 'C:\\\\Users\\\\test\\\\Desktop\\\\Data Science\\\\WHK\\\\projekt_restatements\\\\test_data\\\\Fraport AG FFM Airport2012_SR.pdf',\n",
       " 'C:\\\\Users\\\\test\\\\Desktop\\\\Data Science\\\\WHK\\\\projekt_restatements\\\\test_data\\\\Henkel AG_Co.KGAA2013_SR.pdf',\n",
       " 'C:\\\\Users\\\\test\\\\Desktop\\\\Data Science\\\\WHK\\\\projekt_restatements\\\\test_data\\\\Linde AG_SR_2014.pdf',\n",
       " 'C:\\\\Users\\\\test\\\\Desktop\\\\Data Science\\\\WHK\\\\projekt_restatements\\\\test_data\\\\MAN SE_SR_2015.pdf',\n",
       " 'C:\\\\Users\\\\test\\\\Desktop\\\\Data Science\\\\WHK\\\\projekt_restatements\\\\test_data\\\\RWE AG_SR_2016.pdf',\n",
       " 'C:\\\\Users\\\\test\\\\Desktop\\\\Data Science\\\\WHK\\\\projekt_restatements\\\\test_data\\\\Telefonica DTLD HLDG AG_SR_2017.pdf',\n",
       " 'C:\\\\Users\\\\test\\\\Desktop\\\\Data Science\\\\WHK\\\\projekt_restatements\\\\test_data\\\\Volkswagen AG_SR_2018.pdf',\n",
       " 'C:\\\\Users\\\\test\\\\Desktop\\\\Data Science\\\\WHK\\\\projekt_restatements\\\\eingelesen.txt',\n",
       " 'C:\\\\Users\\\\test\\\\Desktop\\\\Data Science\\\\WHK\\\\projekt_restatements\\\\Extractor.ipynb',\n",
       " 'C:\\\\Users\\\\test\\\\Desktop\\\\Data Science\\\\WHK\\\\projekt_restatements\\\\final.csv',\n",
       " 'C:\\\\Users\\\\test\\\\Desktop\\\\Data Science\\\\WHK\\\\projekt_restatements\\\\herumprobieren.ipynb',\n",
       " 'C:\\\\Users\\\\test\\\\Desktop\\\\Data Science\\\\WHK\\\\projekt_restatements\\\\KWL.txt',\n",
       " 'C:\\\\Users\\\\test\\\\Desktop\\\\Data Science\\\\WHK\\\\projekt_restatements\\\\main.ipynb']"
      ]
     },
     "execution_count": 4,
     "metadata": {},
     "output_type": "execute_result"
    }
   ],
   "source": [
    "from modules import nlpPrep\n",
    "from modules import Path\n",
    "pfade = Path.Fetcher()\n",
    "pfade"
   ]
  },
  {
   "cell_type": "code",
   "execution_count": 1,
   "metadata": {},
   "outputs": [],
   "source": [
    "import os"
   ]
  },
  {
   "cell_type": "code",
   "execution_count": 2,
   "metadata": {},
   "outputs": [
    {
     "data": {
      "text/plain": [
       "'C:\\\\Users\\\\test\\\\Desktop\\\\Data Science\\\\WHK\\\\projekt_restatements'"
      ]
     },
     "execution_count": 2,
     "metadata": {},
     "output_type": "execute_result"
    }
   ],
   "source": [
    "os.path.abspath('')"
   ]
  },
  {
   "cell_type": "code",
   "execution_count": 3,
   "metadata": {},
   "outputs": [
    {
     "data": {
      "text/plain": [
       "'C:\\\\Users\\\\test\\\\Desktop\\\\Data Science\\\\WHK\\\\projekt_restatements\\\\data'"
      ]
     },
     "execution_count": 3,
     "metadata": {},
     "output_type": "execute_result"
    }
   ],
   "source": [
    "os.path.abspath('data')"
   ]
  },
  {
   "cell_type": "code",
   "execution_count": 15,
   "metadata": {},
   "outputs": [],
   "source": []
  },
  {
   "cell_type": "code",
   "execution_count": 18,
   "metadata": {},
   "outputs": [
    {
     "data": {
      "text/plain": [
       "'C:/Users/test/Desktop/Data Science/WHK/projekt_restatements/data/raw/2008_2018\\\\zooplus AG2018_NFE.pdf'"
      ]
     },
     "execution_count": 18,
     "metadata": {},
     "output_type": "execute_result"
    }
   ],
   "source": [
    "import glob\n",
    "\n",
    "mypath = 'C:/Users/test/Desktop/Data Science/WHK/projekt_restatements/data/raw/2008_2018/*.pdf'\n",
    "\n",
    "liste = glob.glob(mypath)\n"
   ]
  },
  {
   "cell_type": "code",
   "execution_count": null,
   "metadata": {},
   "outputs": [],
   "source": []
  }
 ],
 "metadata": {
  "kernelspec": {
   "display_name": "Python 3",
   "language": "python",
   "name": "python3"
  },
  "language_info": {
   "codemirror_mode": {
    "name": "ipython",
    "version": 3
   },
   "file_extension": ".py",
   "mimetype": "text/x-python",
   "name": "python",
   "nbconvert_exporter": "python",
   "pygments_lexer": "ipython3",
   "version": "3.8.5"
  }
 },
 "nbformat": 4,
 "nbformat_minor": 4
}
